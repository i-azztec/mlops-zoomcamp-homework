{
 "cells": [
  {
   "cell_type": "code",
   "execution_count": null,
   "id": "ebb94056-fb76-49be-aa32-87bec569e44c",
   "metadata": {},
   "outputs": [],
   "source": []
  },
  {
   "cell_type": "markdown",
   "id": "5983a7b5-1834-43d8-92de-8e8c26c79c1c",
   "metadata": {},
   "source": [
    "## Homework\n",
    "---\n",
    "The goal of this homework is to get familiar with MLflow, the tool for experiment tracking and model management.\n",
    "\n",
    "## Q1. Install MLflow\n",
    "---\n",
    "To get started with MLflow you'll need to install the MLflow Python package.\n",
    "\n",
    "For this we recommend creating a separate Python environment, for example, you can use conda environments, and then install the package there with pip or conda.\n",
    "\n",
    "Once you installed the package, run the command mlflow --version and check the output.\n",
    "\n",
    "What's the version that you have?"
   ]
  },
  {
   "cell_type": "code",
   "execution_count": null,
   "id": "f9cc4e3b-36c3-4c24-9133-26db484cd071",
   "metadata": {},
   "outputs": [],
   "source": []
  },
  {
   "cell_type": "code",
   "execution_count": 1,
   "id": "9d443609-ace3-4c33-b5d8-9c2e4370b75f",
   "metadata": {},
   "outputs": [
    {
     "name": "stdout",
     "output_type": "stream",
     "text": [
      "mlflow, version 2.22.0\n"
     ]
    }
   ],
   "source": [
    "! mlflow --version"
   ]
  },
  {
   "cell_type": "code",
   "execution_count": null,
   "id": "347beeb1-55e4-4562-bec0-64fce4c3f215",
   "metadata": {},
   "outputs": [],
   "source": []
  },
  {
   "cell_type": "code",
   "execution_count": 2,
   "id": "e759843c-b12b-45d8-b5b9-b025aa588075",
   "metadata": {},
   "outputs": [],
   "source": [
    "import pandas as pd\n",
    "import mlflow"
   ]
  },
  {
   "cell_type": "code",
   "execution_count": null,
   "id": "0a2bb7b6-4cd3-4ab8-bfb6-6d94f3e22154",
   "metadata": {},
   "outputs": [],
   "source": []
  },
  {
   "cell_type": "code",
   "execution_count": null,
   "id": "863b1198-5609-4bf0-92be-f89327409217",
   "metadata": {},
   "outputs": [],
   "source": []
  },
  {
   "cell_type": "markdown",
   "id": "685ae796-bf06-4457-962c-ec86404ee3d0",
   "metadata": {},
   "source": [
    "## Q2. Download and preprocess the data\n",
    "---\n",
    "We'll use the Green Taxi Trip Records dataset to predict the duration of each trip.\n",
    "\n",
    "Download the data for January, February and March 2023 in parquet format from [here](https://www1.nyc.gov/site/tlc/about/tlc-trip-record-data.page).\n",
    "\n",
    "Use the script preprocess_data.py located in the folder homework to preprocess the data.\n",
    "\n",
    "The script will:\n",
    "\n",
    "* load the data from the folder <TAXI_DATA_FOLDER> (the folder where you have downloaded the data),\n",
    "* fit a DictVectorizer on the training set (January 2023 data),\n",
    "* save the preprocessed datasets and the DictVectorizer to disk.\n",
    "\n",
    "Your task is to download the datasets and then execute this command:\n",
    "\n",
    "\n",
    "```python\n",
    "python preprocess_data.py --raw_data_path <TAXI_DATA_FOLDER> --dest_path ./output\n",
    "```\n",
    "\n",
    "Tip: go to 02-experiment-tracking/homework/ folder before executing the command and change the value of <TAXI_DATA_FOLDER> to the location where you saved the data.\n",
    "\n",
    "How many files were saved to OUTPUT_FOLDER?\n",
    "\n",
    "* ~~1~~\n",
    "* ~~3~~\n",
    "* **4**\n",
    "* ~~7~~"
   ]
  },
  {
   "cell_type": "code",
   "execution_count": null,
   "id": "8f67b5e3-e8d7-4f8f-9a14-23978fcc6e7c",
   "metadata": {},
   "outputs": [],
   "source": []
  },
  {
   "cell_type": "code",
   "execution_count": 3,
   "id": "c40feb82-fc2f-4312-9a1c-6dd56f23df23",
   "metadata": {},
   "outputs": [
    {
     "name": "stdout",
     "output_type": "stream",
     "text": [
      "total 4596\n",
      "drwxr-xr-x 1 Gleb None       0 May 23 06:00 .\n",
      "drwxr-xr-x 1 Gleb None       0 May 23 05:32 ..\n",
      "-rw-r--r-- 1 Gleb None 1427002 May 23 05:51 green_tripdata_2023-01.parquet\n",
      "-rw-r--r-- 1 Gleb None 1533740 May 23 05:51 green_tripdata_2023-02.parquet\n",
      "-rw-r--r-- 1 Gleb None 1730999 May 23 05:51 green_tripdata_2023-03.parquet\n",
      "drwxr-xr-x 1 Gleb None       0 May 23 05:55 output\n"
     ]
    }
   ],
   "source": [
    "! ls -al ../data"
   ]
  },
  {
   "cell_type": "code",
   "execution_count": null,
   "id": "066b36af-d47b-40c3-8ed9-25edb86d6f85",
   "metadata": {},
   "outputs": [],
   "source": []
  },
  {
   "cell_type": "code",
   "execution_count": 4,
   "id": "51f91af4-ec9e-4fdb-9bdc-0697742d1d00",
   "metadata": {},
   "outputs": [
    {
     "name": "stdout",
     "output_type": "stream",
     "text": [
      "total 20\n",
      "drwxr-xr-x 1 Gleb None    0 May 18 01:40 .\n",
      "drwxr-xr-x 1 Gleb None    0 May 25 21:59 ..\n",
      "-rw-r--r-- 1 Gleb None 1906 May 23 05:19 hpo.py\n",
      "-rw-r--r-- 1 Gleb None 2593 May 23 05:19 preprocess_data.py\n",
      "-rw-r--r-- 1 Gleb None 2583 May 23 05:19 register_model.py\n",
      "-rw-r--r-- 1 Gleb None  909 May 23 06:14 train.py\n"
     ]
    }
   ],
   "source": [
    "! ls -al ./homework"
   ]
  },
  {
   "cell_type": "code",
   "execution_count": null,
   "id": "64427cf0-8f7d-4542-9ac6-0839d92cc595",
   "metadata": {},
   "outputs": [],
   "source": []
  },
  {
   "cell_type": "code",
   "execution_count": 5,
   "id": "013ce8c5-a0de-49e2-8579-c31db6702068",
   "metadata": {
    "scrolled": true
   },
   "outputs": [],
   "source": [
    "! python ./homework/preprocess_data.py --raw_data_path ../data --dest_path ../data/output"
   ]
  },
  {
   "cell_type": "code",
   "execution_count": null,
   "id": "9827d553-d0fd-4372-8b28-2aeb7b7d4b49",
   "metadata": {},
   "outputs": [],
   "source": []
  },
  {
   "cell_type": "code",
   "execution_count": 6,
   "id": "8e685e99-6eae-429d-9eef-86e86325d142",
   "metadata": {},
   "outputs": [
    {
     "name": "stdout",
     "output_type": "stream",
     "text": [
      "total 7020\n",
      "drwxr-xr-x 1 Gleb None       0 May 23 05:55 .\n",
      "drwxr-xr-x 1 Gleb None       0 May 23 06:00 ..\n",
      "-rw-r--r-- 1 Gleb None  131004 May 25 21:59 dv.pkl\n",
      "-rw-r--r-- 1 Gleb None 2458697 May 25 21:59 test.pkl\n",
      "-rw-r--r-- 1 Gleb None 2374517 May 25 21:59 train.pkl\n",
      "-rw-r--r-- 1 Gleb None 2215823 May 25 21:59 val.pkl\n"
     ]
    }
   ],
   "source": [
    "! ls -al ../data/output/"
   ]
  },
  {
   "cell_type": "code",
   "execution_count": null,
   "id": "61da9d0b-d36a-4abc-b196-34cc6b3fe198",
   "metadata": {},
   "outputs": [],
   "source": []
  },
  {
   "cell_type": "code",
   "execution_count": null,
   "id": "12205cda-c4ea-4c25-ad31-18c2221e6073",
   "metadata": {},
   "outputs": [],
   "source": []
  },
  {
   "cell_type": "code",
   "execution_count": null,
   "id": "6dd2d412-9bea-4bad-a42d-a27a9f429c07",
   "metadata": {},
   "outputs": [],
   "source": []
  },
  {
   "cell_type": "markdown",
   "id": "30cf9ca6-97c8-4a71-95b9-110c34f11e4d",
   "metadata": {},
   "source": [
    "## Q3. Train a model with autolog\n",
    "---\n",
    "We will train a `RandomForestRegressor` (from Scikit-Learn) on the taxi dataset.\n",
    "\n",
    "We have prepared the training script `train.py` for this exercise, which can be also found in the folder `homework`.\n",
    "\n",
    "The script will:\n",
    "\n",
    "* load the datasets produced by the previous step,\n",
    "* train the model on the training set,\n",
    "* calculate the RMSE score on the validation set.\n",
    "\n",
    "Your task is to modify the script to enable autologging with MLflow, execute the script and then launch the MLflow UI to check that the experiment run was properly tracked.\n",
    "\n",
    "Tip 1: don't forget to wrap the training code with a `with mlflow.start_run():` statement as we showed in the videos.\n",
    "\n",
    "Tip 2: don't modify the hyperparameters of the model to make sure that the training will finish quickly.\n",
    "\n",
    "What is the value of the `min_samples_split` parameter:\n",
    "\n",
    "* **2**\n",
    "* ~~4~~\n",
    "* ~~8~~\n",
    "* ~~10~~"
   ]
  },
  {
   "cell_type": "code",
   "execution_count": null,
   "id": "05eb8ade-ae22-4a0f-a193-8e5d711c6e6e",
   "metadata": {},
   "outputs": [],
   "source": []
  },
  {
   "cell_type": "code",
   "execution_count": 22,
   "id": "98072e06-dd1b-456f-a451-9151e3567867",
   "metadata": {},
   "outputs": [
    {
     "name": "stderr",
     "output_type": "stream",
     "text": [
      "2025/05/25 22:01:30 INFO mlflow.tracking.fluent: Autologging successfully enabled for sklearn.\n"
     ]
    }
   ],
   "source": [
    "! python ./homework/train.py --data_path ../data/output"
   ]
  },
  {
   "cell_type": "code",
   "execution_count": null,
   "id": "1604e3ae-1fd2-46e3-8031-0e38e94b69ab",
   "metadata": {},
   "outputs": [],
   "source": []
  },
  {
   "cell_type": "code",
   "execution_count": 23,
   "id": "757c7fb2-b6f4-4c0d-bbdb-ddc2c32e4991",
   "metadata": {},
   "outputs": [
    {
     "data": {
      "text/plain": [
       "<mlflow.tracking.client.MlflowClient at 0x244c91286b0>"
      ]
     },
     "execution_count": 23,
     "metadata": {},
     "output_type": "execute_result"
    }
   ],
   "source": [
    "client = mlflow.client.MlflowClient()\n",
    "client"
   ]
  },
  {
   "cell_type": "code",
   "execution_count": null,
   "id": "ff2e5f0a-1fc2-4d8d-915a-957159350b32",
   "metadata": {},
   "outputs": [],
   "source": []
  },
  {
   "cell_type": "code",
   "execution_count": 24,
   "id": "56e32ec3-ccf6-47d1-b92c-106d96ac5d49",
   "metadata": {},
   "outputs": [
    {
     "data": {
      "text/plain": [
       "[<Experiment: artifact_location='file:///c:/Users/Gleb/work/courses/2025-05-12_mlops-course/mlops-zoomcamp-homework/02-experiment-tracking/mlruns/0', creation_time=1748199690569, experiment_id='0', last_update_time=1748199690569, lifecycle_stage='active', name='Default', tags={}>]"
      ]
     },
     "execution_count": 24,
     "metadata": {},
     "output_type": "execute_result"
    }
   ],
   "source": [
    "experiments = client.search_experiments()\n",
    "experiments"
   ]
  },
  {
   "cell_type": "code",
   "execution_count": null,
   "id": "ee803f53-9fa8-428f-baf6-74c93edca369",
   "metadata": {},
   "outputs": [],
   "source": []
  },
  {
   "cell_type": "code",
   "execution_count": 25,
   "id": "7f1bf5c9-c218-4ff8-a1ba-fce77f91cc24",
   "metadata": {},
   "outputs": [
    {
     "data": {
      "text/plain": [
       "(1,\n",
       " <Run: data=<RunData: metrics={'training_mean_absolute_error': 3.4244701942312354,\n",
       "  'training_mean_squared_error': 27.083054499499358,\n",
       "  'training_r2_score': 0.6673983775155525,\n",
       "  'training_root_mean_squared_error': 5.204138209108148,\n",
       "  'training_score': 0.6673983775155525}, params={'bootstrap': 'True',\n",
       "  'ccp_alpha': '0.0',\n",
       "  'criterion': 'squared_error',\n",
       "  'max_depth': '10',\n",
       "  'max_features': '1.0',\n",
       "  'max_leaf_nodes': 'None',\n",
       "  'max_samples': 'None',\n",
       "  'min_impurity_decrease': '0.0',\n",
       "  'min_samples_leaf': '1',\n",
       "  'min_samples_split': '2',\n",
       "  'min_weight_fraction_leaf': '0.0',\n",
       "  'monotonic_cst': 'None',\n",
       "  'n_estimators': '100',\n",
       "  'n_jobs': 'None',\n",
       "  'oob_score': 'False',\n",
       "  'random_state': '0',\n",
       "  'verbose': '0',\n",
       "  'warm_start': 'False'}, tags={'estimator_class': 'sklearn.ensemble._forest.RandomForestRegressor',\n",
       "  'estimator_name': 'RandomForestRegressor',\n",
       "  'mlflow.log-model.history': '[{\"run_id\": \"032f499917174007839634151a760bb7\", '\n",
       "                              '\"artifact_path\": \"model\", \"utc_time_created\": '\n",
       "                              '\"2025-05-25 19:01:51.221152\", \"model_uuid\": '\n",
       "                              '\"a2bf2f13810347229fb4f58e5e1d5e40\", \"flavors\": '\n",
       "                              '{\"python_function\": {\"model_path\": \"model.pkl\", '\n",
       "                              '\"predict_fn\": \"predict\", \"loader_module\": '\n",
       "                              '\"mlflow.sklearn\", \"python_version\": \"3.12.4\", '\n",
       "                              '\"env\": {\"conda\": \"conda.yaml\", \"virtualenv\": '\n",
       "                              '\"python_env.yaml\"}}, \"sklearn\": '\n",
       "                              '{\"pickled_model\": \"model.pkl\", '\n",
       "                              '\"sklearn_version\": \"1.5.2\", '\n",
       "                              '\"serialization_format\": \"cloudpickle\", \"code\": '\n",
       "                              'null}}}]',\n",
       "  'mlflow.runName': 'respected-swan-305',\n",
       "  'mlflow.source.git.commit': 'ed191bbe04ba2174daca69a349b18508a0fe2939',\n",
       "  'mlflow.source.name': './homework/train.py',\n",
       "  'mlflow.source.type': 'LOCAL',\n",
       "  'mlflow.user': 'Gleb'}>, info=<RunInfo: artifact_uri='file:///c:/Users/Gleb/work/courses/2025-05-12_mlops-course/mlops-zoomcamp-homework/02-experiment-tracking/mlruns/0/032f499917174007839634151a760bb7/artifacts', end_time=1748199723174, experiment_id='0', lifecycle_stage='active', run_id='032f499917174007839634151a760bb7', run_name='respected-swan-305', run_uuid='032f499917174007839634151a760bb7', start_time=1748199691405, status='FINISHED', user_id='Gleb'>, inputs=<RunInputs: dataset_inputs=[<DatasetInput: dataset=<Dataset: digest='7edda543', name='dataset', profile=('{\"features_shape\": [62574, 5702], \"features_size\": 356796948, '\n",
       "  '\"features_nbytes\": 2854375584}'), schema=('{\"mlflow_tensorspec\": {\"features\": \"[{\\\\\"type\\\\\": \\\\\"tensor\\\\\", '\n",
       "  '\\\\\"tensor-spec\\\\\": {\\\\\"dtype\\\\\": \\\\\"float64\\\\\", \\\\\"shape\\\\\": [-1, 5702]}}]\", '\n",
       "  '\"targets\": null}}'), source=('{\"tags\": {\"mlflow.user\": \"Gleb\", \"mlflow.source.name\": '\n",
       "  '\"./homework/train.py\", \"mlflow.source.type\": \"LOCAL\", '\n",
       "  '\"mlflow.source.git.commit\": \"ed191bbe04ba2174daca69a349b18508a0fe2939\"}}'), source_type='code'>, tags=[<InputTag: key='mlflow.data.context', value='eval'>]>,\n",
       "  <DatasetInput: dataset=<Dataset: digest='acc5c667', name='dataset', profile=('{\"features_shape\": [65946, 5702], \"features_size\": 376024092, '\n",
       "  '\"features_nbytes\": 3008192736, \"targets_shape\": [65946], \"targets_size\": '\n",
       "  '65946, \"targets_nbytes\": 527568}'), schema=('{\"mlflow_tensorspec\": {\"features\": \"[{\\\\\"type\\\\\": \\\\\"tensor\\\\\", '\n",
       "  '\\\\\"tensor-spec\\\\\": {\\\\\"dtype\\\\\": \\\\\"float64\\\\\", \\\\\"shape\\\\\": [-1, 5702]}}]\", '\n",
       "  '\"targets\": \"[{\\\\\"type\\\\\": \\\\\"tensor\\\\\", \\\\\"tensor-spec\\\\\": {\\\\\"dtype\\\\\": '\n",
       "  '\\\\\"float64\\\\\", \\\\\"shape\\\\\": [-1]}}]\"}}'), source=('{\"tags\": {\"mlflow.user\": \"Gleb\", \"mlflow.source.name\": '\n",
       "  '\"./homework/train.py\", \"mlflow.source.type\": \"LOCAL\", '\n",
       "  '\"mlflow.source.git.commit\": \"ed191bbe04ba2174daca69a349b18508a0fe2939\"}}'), source_type='code'>, tags=[<InputTag: key='mlflow.data.context', value='train'>]>]>>)"
      ]
     },
     "execution_count": 25,
     "metadata": {},
     "output_type": "execute_result"
    }
   ],
   "source": [
    "runs = client.search_runs(experiment_ids='0')\n",
    "len(runs), runs[0]"
   ]
  },
  {
   "cell_type": "code",
   "execution_count": null,
   "id": "522b9389-d1df-410c-b091-17892ac856bb",
   "metadata": {},
   "outputs": [],
   "source": []
  },
  {
   "cell_type": "code",
   "execution_count": null,
   "id": "cc311779-8728-47a9-ab5b-b562c1b165e1",
   "metadata": {},
   "outputs": [],
   "source": []
  },
  {
   "cell_type": "code",
   "execution_count": 26,
   "id": "e636a0e0-e784-424e-87be-7b8c75e952c9",
   "metadata": {},
   "outputs": [
    {
     "data": {
      "text/plain": [
       "dict_keys(['info', 'data', 'inputs'])"
      ]
     },
     "execution_count": 26,
     "metadata": {},
     "output_type": "execute_result"
    }
   ],
   "source": [
    "runs[0].to_dictionary().keys()"
   ]
  },
  {
   "cell_type": "code",
   "execution_count": 27,
   "id": "cbd7f54a-495d-49ef-abef-7c4cf3bade5a",
   "metadata": {},
   "outputs": [
    {
     "name": "stdout",
     "output_type": "stream",
     "text": [
      "dict_keys(['artifact_uri', 'end_time', 'experiment_id', 'lifecycle_stage', 'run_id', 'run_name', 'run_uuid', 'start_time', 'status', 'user_id'])\n",
      "dict_keys(['metrics', 'params', 'tags'])\n",
      "dict_keys(['dataset_inputs'])\n"
     ]
    }
   ],
   "source": [
    "for k in runs[0].to_dictionary().keys():\n",
    "    print(runs[0].to_dictionary()[k].keys())"
   ]
  },
  {
   "cell_type": "code",
   "execution_count": null,
   "id": "704bc1d4-c669-49b0-8258-1e987e6a1abd",
   "metadata": {},
   "outputs": [],
   "source": []
  },
  {
   "cell_type": "code",
   "execution_count": 28,
   "id": "fc915015-0d4c-4f57-be9d-6556ba479656",
   "metadata": {},
   "outputs": [
    {
     "data": {
      "text/plain": [
       "{'artifact_uri': 'file:///c:/Users/Gleb/work/courses/2025-05-12_mlops-course/mlops-zoomcamp-homework/02-experiment-tracking/mlruns/0/032f499917174007839634151a760bb7/artifacts',\n",
       " 'end_time': 1748199723174,\n",
       " 'experiment_id': '0',\n",
       " 'lifecycle_stage': 'active',\n",
       " 'run_id': '032f499917174007839634151a760bb7',\n",
       " 'run_name': 'respected-swan-305',\n",
       " 'run_uuid': '032f499917174007839634151a760bb7',\n",
       " 'start_time': 1748199691405,\n",
       " 'status': 'FINISHED',\n",
       " 'user_id': 'Gleb'}"
      ]
     },
     "execution_count": 28,
     "metadata": {},
     "output_type": "execute_result"
    }
   ],
   "source": [
    "runs[0].to_dictionary()['info']"
   ]
  },
  {
   "cell_type": "code",
   "execution_count": 29,
   "id": "a365981c-5a53-4954-abbb-9387b0e0070a",
   "metadata": {},
   "outputs": [
    {
     "data": {
      "text/plain": [
       "{'dataset_inputs': [{'dataset': {'name': 'dataset',\n",
       "    'digest': '7edda543',\n",
       "    'source_type': 'code',\n",
       "    'source': '{\"tags\": {\"mlflow.user\": \"Gleb\", \"mlflow.source.name\": \"./homework/train.py\", \"mlflow.source.type\": \"LOCAL\", \"mlflow.source.git.commit\": \"ed191bbe04ba2174daca69a349b18508a0fe2939\"}}',\n",
       "    'schema': '{\"mlflow_tensorspec\": {\"features\": \"[{\\\\\"type\\\\\": \\\\\"tensor\\\\\", \\\\\"tensor-spec\\\\\": {\\\\\"dtype\\\\\": \\\\\"float64\\\\\", \\\\\"shape\\\\\": [-1, 5702]}}]\", \"targets\": null}}',\n",
       "    'profile': '{\"features_shape\": [62574, 5702], \"features_size\": 356796948, \"features_nbytes\": 2854375584}'},\n",
       "   'tags': {'mlflow.data.context': 'eval'}},\n",
       "  {'dataset': {'name': 'dataset',\n",
       "    'digest': 'acc5c667',\n",
       "    'source_type': 'code',\n",
       "    'source': '{\"tags\": {\"mlflow.user\": \"Gleb\", \"mlflow.source.name\": \"./homework/train.py\", \"mlflow.source.type\": \"LOCAL\", \"mlflow.source.git.commit\": \"ed191bbe04ba2174daca69a349b18508a0fe2939\"}}',\n",
       "    'schema': '{\"mlflow_tensorspec\": {\"features\": \"[{\\\\\"type\\\\\": \\\\\"tensor\\\\\", \\\\\"tensor-spec\\\\\": {\\\\\"dtype\\\\\": \\\\\"float64\\\\\", \\\\\"shape\\\\\": [-1, 5702]}}]\", \"targets\": \"[{\\\\\"type\\\\\": \\\\\"tensor\\\\\", \\\\\"tensor-spec\\\\\": {\\\\\"dtype\\\\\": \\\\\"float64\\\\\", \\\\\"shape\\\\\": [-1]}}]\"}}',\n",
       "    'profile': '{\"features_shape\": [65946, 5702], \"features_size\": 376024092, \"features_nbytes\": 3008192736, \"targets_shape\": [65946], \"targets_size\": 65946, \"targets_nbytes\": 527568}'},\n",
       "   'tags': {'mlflow.data.context': 'train'}}]}"
      ]
     },
     "execution_count": 29,
     "metadata": {},
     "output_type": "execute_result"
    }
   ],
   "source": [
    "runs[0].to_dictionary()['inputs']"
   ]
  },
  {
   "cell_type": "code",
   "execution_count": 30,
   "id": "3d82da41-9c8d-4b81-bbc5-138e0fcfdeb5",
   "metadata": {},
   "outputs": [
    {
     "data": {
      "text/plain": [
       "{'metrics': {'training_mean_absolute_error': 3.4244701942312354,\n",
       "  'training_mean_squared_error': 27.083054499499358,\n",
       "  'training_r2_score': 0.6673983775155525,\n",
       "  'training_root_mean_squared_error': 5.204138209108148,\n",
       "  'training_score': 0.6673983775155525},\n",
       " 'params': {'bootstrap': 'True',\n",
       "  'ccp_alpha': '0.0',\n",
       "  'criterion': 'squared_error',\n",
       "  'max_depth': '10',\n",
       "  'max_features': '1.0',\n",
       "  'max_leaf_nodes': 'None',\n",
       "  'max_samples': 'None',\n",
       "  'min_impurity_decrease': '0.0',\n",
       "  'min_samples_leaf': '1',\n",
       "  'min_samples_split': '2',\n",
       "  'min_weight_fraction_leaf': '0.0',\n",
       "  'monotonic_cst': 'None',\n",
       "  'n_estimators': '100',\n",
       "  'n_jobs': 'None',\n",
       "  'oob_score': 'False',\n",
       "  'random_state': '0',\n",
       "  'verbose': '0',\n",
       "  'warm_start': 'False'},\n",
       " 'tags': {'estimator_class': 'sklearn.ensemble._forest.RandomForestRegressor',\n",
       "  'estimator_name': 'RandomForestRegressor',\n",
       "  'mlflow.log-model.history': '[{\"run_id\": \"032f499917174007839634151a760bb7\", \"artifact_path\": \"model\", \"utc_time_created\": \"2025-05-25 19:01:51.221152\", \"model_uuid\": \"a2bf2f13810347229fb4f58e5e1d5e40\", \"flavors\": {\"python_function\": {\"model_path\": \"model.pkl\", \"predict_fn\": \"predict\", \"loader_module\": \"mlflow.sklearn\", \"python_version\": \"3.12.4\", \"env\": {\"conda\": \"conda.yaml\", \"virtualenv\": \"python_env.yaml\"}}, \"sklearn\": {\"pickled_model\": \"model.pkl\", \"sklearn_version\": \"1.5.2\", \"serialization_format\": \"cloudpickle\", \"code\": null}}}]',\n",
       "  'mlflow.runName': 'respected-swan-305',\n",
       "  'mlflow.source.git.commit': 'ed191bbe04ba2174daca69a349b18508a0fe2939',\n",
       "  'mlflow.source.name': './homework/train.py',\n",
       "  'mlflow.source.type': 'LOCAL',\n",
       "  'mlflow.user': 'Gleb'}}"
      ]
     },
     "execution_count": 30,
     "metadata": {},
     "output_type": "execute_result"
    }
   ],
   "source": [
    "runs[0].to_dictionary()['data']"
   ]
  },
  {
   "cell_type": "code",
   "execution_count": null,
   "id": "077303bf-47f2-4493-9de1-967e1150bb20",
   "metadata": {},
   "outputs": [],
   "source": []
  },
  {
   "cell_type": "code",
   "execution_count": 31,
   "id": "d6092bf4-4158-4f2e-8397-ae73bc546a20",
   "metadata": {},
   "outputs": [
    {
     "data": {
      "text/plain": [
       "'2'"
      ]
     },
     "execution_count": 31,
     "metadata": {},
     "output_type": "execute_result"
    }
   ],
   "source": [
    "runs[0].to_dictionary()['data']['params']['min_samples_split']"
   ]
  },
  {
   "cell_type": "code",
   "execution_count": null,
   "id": "467caf2d-7a2b-4a61-bb1c-c4985c5ba607",
   "metadata": {},
   "outputs": [],
   "source": []
  },
  {
   "cell_type": "code",
   "execution_count": 32,
   "id": "3107d1d1-c200-434a-bbbf-9d3539c8c9bb",
   "metadata": {},
   "outputs": [
    {
     "data": {
      "text/html": [
       "<div>\n",
       "<style scoped>\n",
       "    .dataframe tbody tr th:only-of-type {\n",
       "        vertical-align: middle;\n",
       "    }\n",
       "\n",
       "    .dataframe tbody tr th {\n",
       "        vertical-align: top;\n",
       "    }\n",
       "\n",
       "    .dataframe thead th {\n",
       "        text-align: right;\n",
       "    }\n",
       "</style>\n",
       "<table border=\"1\" class=\"dataframe\">\n",
       "  <thead>\n",
       "    <tr style=\"text-align: right;\">\n",
       "      <th></th>\n",
       "      <th>0</th>\n",
       "    </tr>\n",
       "  </thead>\n",
       "  <tbody>\n",
       "    <tr>\n",
       "      <th>info.artifact_uri</th>\n",
       "      <td>file:///c:/Users/Gleb/work/courses/2025-05-12_...</td>\n",
       "    </tr>\n",
       "    <tr>\n",
       "      <th>info.end_time</th>\n",
       "      <td>1748199723174</td>\n",
       "    </tr>\n",
       "    <tr>\n",
       "      <th>info.experiment_id</th>\n",
       "      <td>0</td>\n",
       "    </tr>\n",
       "    <tr>\n",
       "      <th>info.lifecycle_stage</th>\n",
       "      <td>active</td>\n",
       "    </tr>\n",
       "    <tr>\n",
       "      <th>info.run_id</th>\n",
       "      <td>032f499917174007839634151a760bb7</td>\n",
       "    </tr>\n",
       "    <tr>\n",
       "      <th>info.run_name</th>\n",
       "      <td>respected-swan-305</td>\n",
       "    </tr>\n",
       "    <tr>\n",
       "      <th>info.run_uuid</th>\n",
       "      <td>032f499917174007839634151a760bb7</td>\n",
       "    </tr>\n",
       "    <tr>\n",
       "      <th>info.start_time</th>\n",
       "      <td>1748199691405</td>\n",
       "    </tr>\n",
       "    <tr>\n",
       "      <th>info.status</th>\n",
       "      <td>FINISHED</td>\n",
       "    </tr>\n",
       "    <tr>\n",
       "      <th>info.user_id</th>\n",
       "      <td>Gleb</td>\n",
       "    </tr>\n",
       "    <tr>\n",
       "      <th>data.metrics.training_mean_absolute_error</th>\n",
       "      <td>3.42447</td>\n",
       "    </tr>\n",
       "    <tr>\n",
       "      <th>data.metrics.training_mean_squared_error</th>\n",
       "      <td>27.083054</td>\n",
       "    </tr>\n",
       "    <tr>\n",
       "      <th>data.metrics.training_r2_score</th>\n",
       "      <td>0.667398</td>\n",
       "    </tr>\n",
       "    <tr>\n",
       "      <th>data.metrics.training_root_mean_squared_error</th>\n",
       "      <td>5.204138</td>\n",
       "    </tr>\n",
       "    <tr>\n",
       "      <th>data.metrics.training_score</th>\n",
       "      <td>0.667398</td>\n",
       "    </tr>\n",
       "    <tr>\n",
       "      <th>data.params.bootstrap</th>\n",
       "      <td>True</td>\n",
       "    </tr>\n",
       "    <tr>\n",
       "      <th>data.params.ccp_alpha</th>\n",
       "      <td>0.0</td>\n",
       "    </tr>\n",
       "    <tr>\n",
       "      <th>data.params.criterion</th>\n",
       "      <td>squared_error</td>\n",
       "    </tr>\n",
       "    <tr>\n",
       "      <th>data.params.max_depth</th>\n",
       "      <td>10</td>\n",
       "    </tr>\n",
       "    <tr>\n",
       "      <th>data.params.max_features</th>\n",
       "      <td>1.0</td>\n",
       "    </tr>\n",
       "    <tr>\n",
       "      <th>data.params.max_leaf_nodes</th>\n",
       "      <td>None</td>\n",
       "    </tr>\n",
       "    <tr>\n",
       "      <th>data.params.max_samples</th>\n",
       "      <td>None</td>\n",
       "    </tr>\n",
       "    <tr>\n",
       "      <th>data.params.min_impurity_decrease</th>\n",
       "      <td>0.0</td>\n",
       "    </tr>\n",
       "    <tr>\n",
       "      <th>data.params.min_samples_leaf</th>\n",
       "      <td>1</td>\n",
       "    </tr>\n",
       "    <tr>\n",
       "      <th>data.params.min_samples_split</th>\n",
       "      <td>2</td>\n",
       "    </tr>\n",
       "    <tr>\n",
       "      <th>data.params.min_weight_fraction_leaf</th>\n",
       "      <td>0.0</td>\n",
       "    </tr>\n",
       "    <tr>\n",
       "      <th>data.params.monotonic_cst</th>\n",
       "      <td>None</td>\n",
       "    </tr>\n",
       "    <tr>\n",
       "      <th>data.params.n_estimators</th>\n",
       "      <td>100</td>\n",
       "    </tr>\n",
       "    <tr>\n",
       "      <th>data.params.n_jobs</th>\n",
       "      <td>None</td>\n",
       "    </tr>\n",
       "    <tr>\n",
       "      <th>data.params.oob_score</th>\n",
       "      <td>False</td>\n",
       "    </tr>\n",
       "    <tr>\n",
       "      <th>data.params.random_state</th>\n",
       "      <td>0</td>\n",
       "    </tr>\n",
       "    <tr>\n",
       "      <th>data.params.verbose</th>\n",
       "      <td>0</td>\n",
       "    </tr>\n",
       "    <tr>\n",
       "      <th>data.params.warm_start</th>\n",
       "      <td>False</td>\n",
       "    </tr>\n",
       "    <tr>\n",
       "      <th>data.tags.estimator_class</th>\n",
       "      <td>sklearn.ensemble._forest.RandomForestRegressor</td>\n",
       "    </tr>\n",
       "    <tr>\n",
       "      <th>data.tags.estimator_name</th>\n",
       "      <td>RandomForestRegressor</td>\n",
       "    </tr>\n",
       "    <tr>\n",
       "      <th>data.tags.mlflow.log-model.history</th>\n",
       "      <td>[{\"run_id\": \"032f499917174007839634151a760bb7\"...</td>\n",
       "    </tr>\n",
       "    <tr>\n",
       "      <th>data.tags.mlflow.runName</th>\n",
       "      <td>respected-swan-305</td>\n",
       "    </tr>\n",
       "    <tr>\n",
       "      <th>data.tags.mlflow.source.git.commit</th>\n",
       "      <td>ed191bbe04ba2174daca69a349b18508a0fe2939</td>\n",
       "    </tr>\n",
       "    <tr>\n",
       "      <th>data.tags.mlflow.source.name</th>\n",
       "      <td>./homework/train.py</td>\n",
       "    </tr>\n",
       "    <tr>\n",
       "      <th>data.tags.mlflow.source.type</th>\n",
       "      <td>LOCAL</td>\n",
       "    </tr>\n",
       "    <tr>\n",
       "      <th>data.tags.mlflow.user</th>\n",
       "      <td>Gleb</td>\n",
       "    </tr>\n",
       "    <tr>\n",
       "      <th>inputs.dataset_inputs</th>\n",
       "      <td>[{'dataset': {'name': 'dataset', 'digest': '7e...</td>\n",
       "    </tr>\n",
       "  </tbody>\n",
       "</table>\n",
       "</div>"
      ],
      "text/plain": [
       "                                                                                               0\n",
       "info.artifact_uri                              file:///c:/Users/Gleb/work/courses/2025-05-12_...\n",
       "info.end_time                                                                      1748199723174\n",
       "info.experiment_id                                                                             0\n",
       "info.lifecycle_stage                                                                      active\n",
       "info.run_id                                                     032f499917174007839634151a760bb7\n",
       "info.run_name                                                                 respected-swan-305\n",
       "info.run_uuid                                                   032f499917174007839634151a760bb7\n",
       "info.start_time                                                                    1748199691405\n",
       "info.status                                                                             FINISHED\n",
       "info.user_id                                                                                Gleb\n",
       "data.metrics.training_mean_absolute_error                                                3.42447\n",
       "data.metrics.training_mean_squared_error                                               27.083054\n",
       "data.metrics.training_r2_score                                                          0.667398\n",
       "data.metrics.training_root_mean_squared_error                                           5.204138\n",
       "data.metrics.training_score                                                             0.667398\n",
       "data.params.bootstrap                                                                       True\n",
       "data.params.ccp_alpha                                                                        0.0\n",
       "data.params.criterion                                                              squared_error\n",
       "data.params.max_depth                                                                         10\n",
       "data.params.max_features                                                                     1.0\n",
       "data.params.max_leaf_nodes                                                                  None\n",
       "data.params.max_samples                                                                     None\n",
       "data.params.min_impurity_decrease                                                            0.0\n",
       "data.params.min_samples_leaf                                                                   1\n",
       "data.params.min_samples_split                                                                  2\n",
       "data.params.min_weight_fraction_leaf                                                         0.0\n",
       "data.params.monotonic_cst                                                                   None\n",
       "data.params.n_estimators                                                                     100\n",
       "data.params.n_jobs                                                                          None\n",
       "data.params.oob_score                                                                      False\n",
       "data.params.random_state                                                                       0\n",
       "data.params.verbose                                                                            0\n",
       "data.params.warm_start                                                                     False\n",
       "data.tags.estimator_class                         sklearn.ensemble._forest.RandomForestRegressor\n",
       "data.tags.estimator_name                                                   RandomForestRegressor\n",
       "data.tags.mlflow.log-model.history             [{\"run_id\": \"032f499917174007839634151a760bb7\"...\n",
       "data.tags.mlflow.runName                                                      respected-swan-305\n",
       "data.tags.mlflow.source.git.commit                      ed191bbe04ba2174daca69a349b18508a0fe2939\n",
       "data.tags.mlflow.source.name                                                 ./homework/train.py\n",
       "data.tags.mlflow.source.type                                                               LOCAL\n",
       "data.tags.mlflow.user                                                                       Gleb\n",
       "inputs.dataset_inputs                          [{'dataset': {'name': 'dataset', 'digest': '7e..."
      ]
     },
     "execution_count": 32,
     "metadata": {},
     "output_type": "execute_result"
    }
   ],
   "source": [
    "df = pd.json_normalize(runs[0].to_dictionary()).T\n",
    "df"
   ]
  },
  {
   "cell_type": "code",
   "execution_count": 33,
   "id": "641a67ec-c242-4cfb-9c13-676525860d6b",
   "metadata": {},
   "outputs": [
    {
     "data": {
      "text/html": [
       "<div>\n",
       "<style scoped>\n",
       "    .dataframe tbody tr th:only-of-type {\n",
       "        vertical-align: middle;\n",
       "    }\n",
       "\n",
       "    .dataframe tbody tr th {\n",
       "        vertical-align: top;\n",
       "    }\n",
       "\n",
       "    .dataframe thead th {\n",
       "        text-align: right;\n",
       "    }\n",
       "</style>\n",
       "<table border=\"1\" class=\"dataframe\">\n",
       "  <thead>\n",
       "    <tr style=\"text-align: right;\">\n",
       "      <th></th>\n",
       "      <th>0</th>\n",
       "    </tr>\n",
       "  </thead>\n",
       "  <tbody>\n",
       "    <tr>\n",
       "      <th>run_id</th>\n",
       "      <td>032f499917174007839634151a760bb7</td>\n",
       "    </tr>\n",
       "    <tr>\n",
       "      <th>artifact_path</th>\n",
       "      <td>model</td>\n",
       "    </tr>\n",
       "    <tr>\n",
       "      <th>utc_time_created</th>\n",
       "      <td>2025-05-25 19:01:51.221152</td>\n",
       "    </tr>\n",
       "    <tr>\n",
       "      <th>model_uuid</th>\n",
       "      <td>a2bf2f13810347229fb4f58e5e1d5e40</td>\n",
       "    </tr>\n",
       "    <tr>\n",
       "      <th>flavors.python_function.model_path</th>\n",
       "      <td>model.pkl</td>\n",
       "    </tr>\n",
       "    <tr>\n",
       "      <th>flavors.python_function.predict_fn</th>\n",
       "      <td>predict</td>\n",
       "    </tr>\n",
       "    <tr>\n",
       "      <th>flavors.python_function.loader_module</th>\n",
       "      <td>mlflow.sklearn</td>\n",
       "    </tr>\n",
       "    <tr>\n",
       "      <th>flavors.python_function.python_version</th>\n",
       "      <td>3.12.4</td>\n",
       "    </tr>\n",
       "    <tr>\n",
       "      <th>flavors.python_function.env.conda</th>\n",
       "      <td>conda.yaml</td>\n",
       "    </tr>\n",
       "    <tr>\n",
       "      <th>flavors.python_function.env.virtualenv</th>\n",
       "      <td>python_env.yaml</td>\n",
       "    </tr>\n",
       "    <tr>\n",
       "      <th>flavors.sklearn.pickled_model</th>\n",
       "      <td>model.pkl</td>\n",
       "    </tr>\n",
       "    <tr>\n",
       "      <th>flavors.sklearn.sklearn_version</th>\n",
       "      <td>1.5.2</td>\n",
       "    </tr>\n",
       "    <tr>\n",
       "      <th>flavors.sklearn.serialization_format</th>\n",
       "      <td>cloudpickle</td>\n",
       "    </tr>\n",
       "    <tr>\n",
       "      <th>flavors.sklearn.code</th>\n",
       "      <td>None</td>\n",
       "    </tr>\n",
       "  </tbody>\n",
       "</table>\n",
       "</div>"
      ],
      "text/plain": [
       "                                                                       0\n",
       "run_id                                  032f499917174007839634151a760bb7\n",
       "artifact_path                                                      model\n",
       "utc_time_created                              2025-05-25 19:01:51.221152\n",
       "model_uuid                              a2bf2f13810347229fb4f58e5e1d5e40\n",
       "flavors.python_function.model_path                             model.pkl\n",
       "flavors.python_function.predict_fn                               predict\n",
       "flavors.python_function.loader_module                     mlflow.sklearn\n",
       "flavors.python_function.python_version                            3.12.4\n",
       "flavors.python_function.env.conda                             conda.yaml\n",
       "flavors.python_function.env.virtualenv                   python_env.yaml\n",
       "flavors.sklearn.pickled_model                                  model.pkl\n",
       "flavors.sklearn.sklearn_version                                    1.5.2\n",
       "flavors.sklearn.serialization_format                         cloudpickle\n",
       "flavors.sklearn.code                                                None"
      ]
     },
     "execution_count": 33,
     "metadata": {},
     "output_type": "execute_result"
    }
   ],
   "source": [
    "pd.json_normalize(eval(df.loc['data.tags.mlflow.log-model.history'][0].replace('null','None'))).T"
   ]
  },
  {
   "cell_type": "code",
   "execution_count": 34,
   "id": "45a54558-189a-4e8d-b971-0de25b58be38",
   "metadata": {},
   "outputs": [
    {
     "data": {
      "text/html": [
       "<div>\n",
       "<style scoped>\n",
       "    .dataframe tbody tr th:only-of-type {\n",
       "        vertical-align: middle;\n",
       "    }\n",
       "\n",
       "    .dataframe tbody tr th {\n",
       "        vertical-align: top;\n",
       "    }\n",
       "\n",
       "    .dataframe thead th {\n",
       "        text-align: right;\n",
       "    }\n",
       "</style>\n",
       "<table border=\"1\" class=\"dataframe\">\n",
       "  <thead>\n",
       "    <tr style=\"text-align: right;\">\n",
       "      <th></th>\n",
       "      <th>0</th>\n",
       "      <th>1</th>\n",
       "    </tr>\n",
       "  </thead>\n",
       "  <tbody>\n",
       "    <tr>\n",
       "      <th>dataset.name</th>\n",
       "      <td>dataset</td>\n",
       "      <td>dataset</td>\n",
       "    </tr>\n",
       "    <tr>\n",
       "      <th>dataset.digest</th>\n",
       "      <td>7edda543</td>\n",
       "      <td>acc5c667</td>\n",
       "    </tr>\n",
       "    <tr>\n",
       "      <th>dataset.source_type</th>\n",
       "      <td>code</td>\n",
       "      <td>code</td>\n",
       "    </tr>\n",
       "    <tr>\n",
       "      <th>dataset.source</th>\n",
       "      <td>{\"tags\": {\"mlflow.user\": \"Gleb\", \"mlflow.sourc...</td>\n",
       "      <td>{\"tags\": {\"mlflow.user\": \"Gleb\", \"mlflow.sourc...</td>\n",
       "    </tr>\n",
       "    <tr>\n",
       "      <th>dataset.schema</th>\n",
       "      <td>{\"mlflow_tensorspec\": {\"features\": \"[{\\\"type\\\"...</td>\n",
       "      <td>{\"mlflow_tensorspec\": {\"features\": \"[{\\\"type\\\"...</td>\n",
       "    </tr>\n",
       "    <tr>\n",
       "      <th>dataset.profile</th>\n",
       "      <td>{\"features_shape\": [62574, 5702], \"features_si...</td>\n",
       "      <td>{\"features_shape\": [65946, 5702], \"features_si...</td>\n",
       "    </tr>\n",
       "    <tr>\n",
       "      <th>tags.mlflow.data.context</th>\n",
       "      <td>eval</td>\n",
       "      <td>train</td>\n",
       "    </tr>\n",
       "  </tbody>\n",
       "</table>\n",
       "</div>"
      ],
      "text/plain": [
       "                                                                          0  \\\n",
       "dataset.name                                                        dataset   \n",
       "dataset.digest                                                     7edda543   \n",
       "dataset.source_type                                                    code   \n",
       "dataset.source            {\"tags\": {\"mlflow.user\": \"Gleb\", \"mlflow.sourc...   \n",
       "dataset.schema            {\"mlflow_tensorspec\": {\"features\": \"[{\\\"type\\\"...   \n",
       "dataset.profile           {\"features_shape\": [62574, 5702], \"features_si...   \n",
       "tags.mlflow.data.context                                               eval   \n",
       "\n",
       "                                                                          1  \n",
       "dataset.name                                                        dataset  \n",
       "dataset.digest                                                     acc5c667  \n",
       "dataset.source_type                                                    code  \n",
       "dataset.source            {\"tags\": {\"mlflow.user\": \"Gleb\", \"mlflow.sourc...  \n",
       "dataset.schema            {\"mlflow_tensorspec\": {\"features\": \"[{\\\"type\\\"...  \n",
       "dataset.profile           {\"features_shape\": [65946, 5702], \"features_si...  \n",
       "tags.mlflow.data.context                                              train  "
      ]
     },
     "execution_count": 34,
     "metadata": {},
     "output_type": "execute_result"
    }
   ],
   "source": [
    "pd.json_normalize(df.loc['inputs.dataset_inputs'][0]).T"
   ]
  },
  {
   "cell_type": "code",
   "execution_count": null,
   "id": "2fb328fd-8d61-4691-b61f-ac232d7e3551",
   "metadata": {},
   "outputs": [],
   "source": []
  },
  {
   "cell_type": "code",
   "execution_count": 35,
   "id": "a6c08cbe-102b-45b6-a94e-d7c07b90f695",
   "metadata": {},
   "outputs": [
    {
     "data": {
      "text/html": [
       "<div>\n",
       "<style scoped>\n",
       "    .dataframe tbody tr th:only-of-type {\n",
       "        vertical-align: middle;\n",
       "    }\n",
       "\n",
       "    .dataframe tbody tr th {\n",
       "        vertical-align: top;\n",
       "    }\n",
       "\n",
       "    .dataframe thead th {\n",
       "        text-align: right;\n",
       "    }\n",
       "</style>\n",
       "<table border=\"1\" class=\"dataframe\">\n",
       "  <thead>\n",
       "    <tr style=\"text-align: right;\">\n",
       "      <th></th>\n",
       "      <th>0</th>\n",
       "      <th>1</th>\n",
       "    </tr>\n",
       "  </thead>\n",
       "  <tbody>\n",
       "    <tr>\n",
       "      <th>dataset.name</th>\n",
       "      <td>dataset</td>\n",
       "      <td>dataset</td>\n",
       "    </tr>\n",
       "    <tr>\n",
       "      <th>dataset.digest</th>\n",
       "      <td>7edda543</td>\n",
       "      <td>acc5c667</td>\n",
       "    </tr>\n",
       "    <tr>\n",
       "      <th>dataset.source_type</th>\n",
       "      <td>code</td>\n",
       "      <td>code</td>\n",
       "    </tr>\n",
       "    <tr>\n",
       "      <th>dataset.source.tags.mlflow.user</th>\n",
       "      <td>Gleb</td>\n",
       "      <td>Gleb</td>\n",
       "    </tr>\n",
       "    <tr>\n",
       "      <th>dataset.source.tags.mlflow.source.name</th>\n",
       "      <td>./homework/train.py</td>\n",
       "      <td>./homework/train.py</td>\n",
       "    </tr>\n",
       "    <tr>\n",
       "      <th>dataset.source.tags.mlflow.source.type</th>\n",
       "      <td>LOCAL</td>\n",
       "      <td>LOCAL</td>\n",
       "    </tr>\n",
       "    <tr>\n",
       "      <th>dataset.source.tags.mlflow.source.git.commit</th>\n",
       "      <td>ed191bbe04ba2174daca69a349b18508a0fe2939</td>\n",
       "      <td>ed191bbe04ba2174daca69a349b18508a0fe2939</td>\n",
       "    </tr>\n",
       "    <tr>\n",
       "      <th>dataset.schema.mlflow_tensorspec.features</th>\n",
       "      <td>[{\"type\": \"tensor\", \"tensor-spec\": {\"dtype\": \"...</td>\n",
       "      <td>[{\"type\": \"tensor\", \"tensor-spec\": {\"dtype\": \"...</td>\n",
       "    </tr>\n",
       "    <tr>\n",
       "      <th>dataset.schema.mlflow_tensorspec.targets</th>\n",
       "      <td>None</td>\n",
       "      <td>[{\"type\": \"tensor\", \"tensor-spec\": {\"dtype\": \"...</td>\n",
       "    </tr>\n",
       "    <tr>\n",
       "      <th>dataset.profile.features_shape</th>\n",
       "      <td>[62574, 5702]</td>\n",
       "      <td>[65946, 5702]</td>\n",
       "    </tr>\n",
       "    <tr>\n",
       "      <th>dataset.profile.features_size</th>\n",
       "      <td>356796948</td>\n",
       "      <td>376024092</td>\n",
       "    </tr>\n",
       "    <tr>\n",
       "      <th>dataset.profile.features_nbytes</th>\n",
       "      <td>2854375584</td>\n",
       "      <td>3008192736</td>\n",
       "    </tr>\n",
       "    <tr>\n",
       "      <th>tags.mlflow.data.context</th>\n",
       "      <td>eval</td>\n",
       "      <td>train</td>\n",
       "    </tr>\n",
       "    <tr>\n",
       "      <th>dataset.profile.targets_shape</th>\n",
       "      <td>NaN</td>\n",
       "      <td>[65946]</td>\n",
       "    </tr>\n",
       "    <tr>\n",
       "      <th>dataset.profile.targets_size</th>\n",
       "      <td>NaN</td>\n",
       "      <td>65946.0</td>\n",
       "    </tr>\n",
       "    <tr>\n",
       "      <th>dataset.profile.targets_nbytes</th>\n",
       "      <td>NaN</td>\n",
       "      <td>527568.0</td>\n",
       "    </tr>\n",
       "  </tbody>\n",
       "</table>\n",
       "</div>"
      ],
      "text/plain": [
       "                                                                                              0  \\\n",
       "dataset.name                                                                            dataset   \n",
       "dataset.digest                                                                         7edda543   \n",
       "dataset.source_type                                                                        code   \n",
       "dataset.source.tags.mlflow.user                                                            Gleb   \n",
       "dataset.source.tags.mlflow.source.name                                      ./homework/train.py   \n",
       "dataset.source.tags.mlflow.source.type                                                    LOCAL   \n",
       "dataset.source.tags.mlflow.source.git.commit           ed191bbe04ba2174daca69a349b18508a0fe2939   \n",
       "dataset.schema.mlflow_tensorspec.features     [{\"type\": \"tensor\", \"tensor-spec\": {\"dtype\": \"...   \n",
       "dataset.schema.mlflow_tensorspec.targets                                                   None   \n",
       "dataset.profile.features_shape                                                    [62574, 5702]   \n",
       "dataset.profile.features_size                                                         356796948   \n",
       "dataset.profile.features_nbytes                                                      2854375584   \n",
       "tags.mlflow.data.context                                                                   eval   \n",
       "dataset.profile.targets_shape                                                               NaN   \n",
       "dataset.profile.targets_size                                                                NaN   \n",
       "dataset.profile.targets_nbytes                                                              NaN   \n",
       "\n",
       "                                                                                              1  \n",
       "dataset.name                                                                            dataset  \n",
       "dataset.digest                                                                         acc5c667  \n",
       "dataset.source_type                                                                        code  \n",
       "dataset.source.tags.mlflow.user                                                            Gleb  \n",
       "dataset.source.tags.mlflow.source.name                                      ./homework/train.py  \n",
       "dataset.source.tags.mlflow.source.type                                                    LOCAL  \n",
       "dataset.source.tags.mlflow.source.git.commit           ed191bbe04ba2174daca69a349b18508a0fe2939  \n",
       "dataset.schema.mlflow_tensorspec.features     [{\"type\": \"tensor\", \"tensor-spec\": {\"dtype\": \"...  \n",
       "dataset.schema.mlflow_tensorspec.targets      [{\"type\": \"tensor\", \"tensor-spec\": {\"dtype\": \"...  \n",
       "dataset.profile.features_shape                                                    [65946, 5702]  \n",
       "dataset.profile.features_size                                                         376024092  \n",
       "dataset.profile.features_nbytes                                                      3008192736  \n",
       "tags.mlflow.data.context                                                                  train  \n",
       "dataset.profile.targets_shape                                                           [65946]  \n",
       "dataset.profile.targets_size                                                            65946.0  \n",
       "dataset.profile.targets_nbytes                                                         527568.0  "
      ]
     },
     "execution_count": 35,
     "metadata": {},
     "output_type": "execute_result"
    }
   ],
   "source": [
    "import json\n",
    "\n",
    "# Function to convert JSON strings to dictionaries\n",
    "def parse_json_strings(item):\n",
    "    if isinstance(item, dict):\n",
    "        return {k: parse_json_strings(v) for k, v in item.items()}\n",
    "    elif isinstance(item, str):\n",
    "        try:\n",
    "            # Let's try to parse the string as JSON\n",
    "            return json.loads(item)\n",
    "        except json.JSONDecodeError:\n",
    "            # If the string is not JSON, return it as is\n",
    "            return item\n",
    "    return item\n",
    "\n",
    "data = df.loc['inputs.dataset_inputs'][0]\n",
    "parsed_data = [parse_json_strings(item) for item in data]\n",
    "df_ = pd.json_normalize(parsed_data).T\n",
    "df_"
   ]
  },
  {
   "cell_type": "code",
   "execution_count": null,
   "id": "4075bec3-cb00-4b1a-9223-c8be01659c64",
   "metadata": {},
   "outputs": [],
   "source": []
  },
  {
   "cell_type": "code",
   "execution_count": null,
   "id": "14329684-6647-4db9-8797-ec2904bccc0a",
   "metadata": {},
   "outputs": [],
   "source": []
  },
  {
   "cell_type": "code",
   "execution_count": 36,
   "id": "582c4716-6546-42cf-9c8a-18ddf996b20d",
   "metadata": {},
   "outputs": [
    {
     "data": {
      "text/html": [
       "<div>\n",
       "<style scoped>\n",
       "    .dataframe tbody tr th:only-of-type {\n",
       "        vertical-align: middle;\n",
       "    }\n",
       "\n",
       "    .dataframe tbody tr th {\n",
       "        vertical-align: top;\n",
       "    }\n",
       "\n",
       "    .dataframe thead th {\n",
       "        text-align: right;\n",
       "    }\n",
       "</style>\n",
       "<table border=\"1\" class=\"dataframe\">\n",
       "  <thead>\n",
       "    <tr style=\"text-align: right;\">\n",
       "      <th></th>\n",
       "      <th>0</th>\n",
       "    </tr>\n",
       "  </thead>\n",
       "  <tbody>\n",
       "    <tr>\n",
       "      <th>data.params.min_samples_split</th>\n",
       "      <td>2</td>\n",
       "    </tr>\n",
       "  </tbody>\n",
       "</table>\n",
       "</div>"
      ],
      "text/plain": [
       "                               0\n",
       "data.params.min_samples_split  2"
      ]
     },
     "execution_count": 36,
     "metadata": {},
     "output_type": "execute_result"
    }
   ],
   "source": [
    "df[df.index.str.contains('min_samples_split')]"
   ]
  },
  {
   "cell_type": "code",
   "execution_count": null,
   "id": "465de9c4-f557-4404-a70d-419cedac85f3",
   "metadata": {},
   "outputs": [],
   "source": []
  },
  {
   "cell_type": "code",
   "execution_count": null,
   "id": "65ab0c93-f542-4bb6-920c-00011425e92c",
   "metadata": {},
   "outputs": [],
   "source": []
  },
  {
   "cell_type": "code",
   "execution_count": null,
   "id": "749ebed1-296e-4e95-9317-3db5f59618c6",
   "metadata": {},
   "outputs": [],
   "source": []
  },
  {
   "cell_type": "markdown",
   "id": "60c3a3a0-a4ee-4333-aa47-fac7e96f8792",
   "metadata": {},
   "source": [
    "## Q4. Launch the tracking server locally\n",
    "---\n",
    "Now we want to manage the entire lifecycle of our ML model. In this step, you'll need to launch a tracking server. This way we will also have access to the model registry.\n",
    "\n",
    "Your task is to:\n",
    "\n",
    "* launch the tracking server on your local machine,\n",
    "* select a SQLite db for the backend store and a folder called artifacts for the artifacts store.\n",
    "  \n",
    "You should keep the tracking server running to work on the next two exercises that use the server.\n",
    "\n",
    "In addition to backend-store-uri, what else do you need to pass to properly configure the server?\n",
    "\n",
    "* **`default-artifact-root`**\n",
    "* ~~`serve-artifacts`~~\n",
    "* ~~`artifacts-only`~~\n",
    "* ~~`artifacts-destination`~~"
   ]
  },
  {
   "cell_type": "code",
   "execution_count": null,
   "id": "b7499eb3-3bc1-487e-ae85-3fb11d436ede",
   "metadata": {},
   "outputs": [],
   "source": []
  },
  {
   "cell_type": "markdown",
   "id": "7b543db8-c332-4da9-8ddc-65641c2cd4af",
   "metadata": {},
   "source": [
    "```\n",
    "! mlflow server \\\n",
    "    --backend-store-uri sqlite:///mlflow/mlflow.db \\\n",
    "    --default-artifact-root ./mlflow/artifacts\n",
    "```"
   ]
  },
  {
   "cell_type": "code",
   "execution_count": null,
   "id": "346cc6fe-23cb-471b-b389-c10cdb4d1764",
   "metadata": {},
   "outputs": [],
   "source": []
  },
  {
   "cell_type": "code",
   "execution_count": null,
   "id": "8bf898b1-2412-4122-b780-dae14a9683be",
   "metadata": {},
   "outputs": [],
   "source": []
  },
  {
   "cell_type": "code",
   "execution_count": null,
   "id": "fcb61393-679c-4f76-8c07-9f1dd5d53d76",
   "metadata": {},
   "outputs": [],
   "source": []
  },
  {
   "cell_type": "markdown",
   "id": "75a79c6f-3ca5-42c3-86f3-b755d0aa012f",
   "metadata": {},
   "source": [
    "## Q5. Tune model hyperparameters\n",
    "---\n",
    "Now let's try to reduce the validation error by tuning the hyperparameters of the RandomForestRegressor using hyperopt. We have prepared the script hpo.py for this exercise.\n",
    "\n",
    "Your task is to modify the script hpo.py and make sure that the validation RMSE is logged to the tracking server for each run of the hyperparameter optimization (you will need to add a few lines of code to the objective function) and run the script without passing any parameters.\n",
    "\n",
    "After that, open UI and explore the runs from the experiment called random-forest-hyperopt to answer the question below.\n",
    "\n",
    "Note: Don't use autologging for this exercise.\n",
    "\n",
    "The idea is to just log the information that you need to answer the question below, including:\n",
    "\n",
    "* the list of hyperparameters that are passed to the objective function during the optimization,\n",
    "* the RMSE obtained on the validation set (February 2023 data).\n",
    "\n",
    "What's the best validation RMSE that you got?\n",
    "\n",
    "* ~~4.817~~\n",
    "* **5.335**\n",
    "* ~~5.818~~\n",
    "* ~~6.336~~"
   ]
  },
  {
   "cell_type": "code",
   "execution_count": null,
   "id": "74cbe28e-331b-404a-bcfb-7dad6d71180d",
   "metadata": {},
   "outputs": [],
   "source": []
  },
  {
   "cell_type": "code",
   "execution_count": 39,
   "id": "2460146c-e952-4366-867e-92712dadb381",
   "metadata": {},
   "outputs": [
    {
     "name": "stdout",
     "output_type": "stream",
     "text": [
      "Usage: hpo.py [OPTIONS]\n",
      "\n",
      "Options:\n",
      "  --data_path TEXT      Location where the processed NYC taxi trip data was\n",
      "                        saved\n",
      "  --num_trials INTEGER  The number of parameter evaluations for the optimizer\n",
      "                        to explore\n",
      "  --help                Show this message and exit.\n"
     ]
    },
    {
     "name": "stderr",
     "output_type": "stream",
     "text": [
      "2025/05/25 22:32:58 INFO mlflow.tracking.fluent: Experiment with name 'random-forest-hyperopt' does not exist. Creating a new experiment.\n"
     ]
    }
   ],
   "source": [
    "! python ./homework/hpo.py --help"
   ]
  },
  {
   "cell_type": "code",
   "execution_count": null,
   "id": "57cf39b5-d8e3-42e6-8616-a194d673feae",
   "metadata": {},
   "outputs": [],
   "source": []
  },
  {
   "cell_type": "code",
   "execution_count": null,
   "id": "9fd2e5f7-bc68-4483-be57-683becc2b5c9",
   "metadata": {},
   "outputs": [],
   "source": []
  },
  {
   "cell_type": "code",
   "execution_count": 44,
   "id": "883e715e-8643-429e-b73b-78b866153490",
   "metadata": {},
   "outputs": [],
   "source": [
    "import os\n",
    "os.environ['PYTHONIOENCODING'] = 'utf-8'"
   ]
  },
  {
   "cell_type": "code",
   "execution_count": 45,
   "id": "97d2ce64-b026-41ef-8856-a4221ff8b253",
   "metadata": {
    "scrolled": true
   },
   "outputs": [
    {
     "name": "stdout",
     "output_type": "stream",
     "text": [
      "\n",
      "  0%|          | 0/15 [00:00<?, ?trial/s, best loss=?]\n",
      "                                                      \n",
      "ðŸ�ƒ View run selective-sow-617 at: http://127.0.0.1:5000/#/experiments/1/runs/c10745a3091d49b1862e3a71be504a16\n",
      "\n",
      "\n",
      "  0%|          | 0/15 [00:12<?, ?trial/s, best loss=?]\n",
      "                                                      \n",
      "ðŸ§ª View experiment at: http://127.0.0.1:5000/#/experiments/1\n",
      "\n",
      "\n",
      "  0%|          | 0/15 [00:12<?, ?trial/s, best loss=?]\n",
      "  7%|â–‹         | 1/15 [00:12<02:49, 12.13s/trial, best loss: 5.370086069268862]\n",
      "                                                                               \n",
      "ðŸ�ƒ View run omniscient-mare-72 at: http://127.0.0.1:5000/#/experiments/1/runs/ef16f4e72d914ed3ba57f5edfc1f658a\n",
      "\n",
      "\n",
      "  7%|â–‹         | 1/15 [00:12<02:49, 12.13s/trial, best loss: 5.370086069268862]\n",
      "                                                                               \n",
      "ðŸ§ª View experiment at: http://127.0.0.1:5000/#/experiments/1\n",
      "\n",
      "\n",
      "  7%|â–‹         | 1/15 [00:12<02:49, 12.13s/trial, best loss: 5.370086069268862]\n",
      " 13%|â–ˆâ–Ž        | 2/15 [00:12<01:10,  5.39s/trial, best loss: 5.370086069268862]\n",
      "                                                                               \n",
      "ðŸ�ƒ View run defiant-tern-190 at: http://127.0.0.1:5000/#/experiments/1/runs/4a28812c3ad344cca9a2ec27385fb8da\n",
      "\n",
      "\n",
      " 13%|â–ˆâ–Ž        | 2/15 [00:13<01:10,  5.39s/trial, best loss: 5.370086069268862]\n",
      "                                                                               \n",
      "ðŸ§ª View experiment at: http://127.0.0.1:5000/#/experiments/1\n",
      "\n",
      "\n",
      " 13%|â–ˆâ–Ž        | 2/15 [00:13<01:10,  5.39s/trial, best loss: 5.370086069268862]\n",
      " 20%|â–ˆâ–ˆ        | 3/15 [00:13<00:40,  3.35s/trial, best loss: 5.370086069268862]\n",
      "                                                                               \n",
      "ðŸ�ƒ View run unique-shad-6 at: http://127.0.0.1:5000/#/experiments/1/runs/4fcd9e82877a45dab9f2745b5817911a\n",
      "\n",
      "\n",
      " 20%|â–ˆâ–ˆ        | 3/15 [00:21<00:40,  3.35s/trial, best loss: 5.370086069268862]\n",
      "                                                                               \n",
      "ðŸ§ª View experiment at: http://127.0.0.1:5000/#/experiments/1\n",
      "\n",
      "\n",
      " 20%|â–ˆâ–ˆ        | 3/15 [00:21<00:40,  3.35s/trial, best loss: 5.370086069268862]\n",
      " 27%|â–ˆâ–ˆâ–‹       | 4/15 [00:21<00:58,  5.28s/trial, best loss: 5.357490752366866]\n",
      "                                                                               \n",
      "ðŸ�ƒ View run caring-newt-525 at: http://127.0.0.1:5000/#/experiments/1/runs/5f088577490042daa5d66eb77c7c90c1\n",
      "\n",
      "\n",
      " 27%|â–ˆâ–ˆâ–‹       | 4/15 [00:25<00:58,  5.28s/trial, best loss: 5.357490752366866]\n",
      "                                                                               \n",
      "ðŸ§ª View experiment at: http://127.0.0.1:5000/#/experiments/1\n",
      "\n",
      "\n",
      " 27%|â–ˆâ–ˆâ–‹       | 4/15 [00:25<00:58,  5.28s/trial, best loss: 5.357490752366866]\n",
      " 33%|â–ˆâ–ˆâ–ˆâ–Ž      | 5/15 [00:25<00:48,  4.80s/trial, best loss: 5.357490752366866]\n",
      "                                                                               \n",
      "ðŸ�ƒ View run bouncy-stork-362 at: http://127.0.0.1:5000/#/experiments/1/runs/198ece4dc9894612ad820bc21759d241\n",
      "\n",
      "\n",
      " 33%|â–ˆâ–ˆâ–ˆâ–Ž      | 5/15 [00:39<00:48,  4.80s/trial, best loss: 5.357490752366866]\n",
      "                                                                               \n",
      "ðŸ§ª View experiment at: http://127.0.0.1:5000/#/experiments/1\n",
      "\n",
      "\n",
      " 33%|â–ˆâ–ˆâ–ˆâ–Ž      | 5/15 [00:39<00:48,  4.80s/trial, best loss: 5.357490752366866]\n",
      " 40%|â–ˆâ–ˆâ–ˆâ–ˆ      | 6/15 [00:39<01:11,  7.93s/trial, best loss: 5.354695072530291]\n",
      "                                                                               \n",
      "ðŸ�ƒ View run sedate-shrew-197 at: http://127.0.0.1:5000/#/experiments/1/runs/dc757fad6cd9494ab7af41194244823f\n",
      "\n",
      "\n",
      " 40%|â–ˆâ–ˆâ–ˆâ–ˆ      | 6/15 [00:53<01:11,  7.93s/trial, best loss: 5.354695072530291]\n",
      "                                                                               \n",
      "ðŸ§ª View experiment at: http://127.0.0.1:5000/#/experiments/1\n",
      "\n",
      "\n",
      " 40%|â–ˆâ–ˆâ–ˆâ–ˆ      | 6/15 [00:53<01:11,  7.93s/trial, best loss: 5.354695072530291]\n",
      " 47%|â–ˆâ–ˆâ–ˆâ–ˆâ–‹     | 7/15 [00:53<01:17,  9.69s/trial, best loss: 5.354695072530291]\n",
      "                                                                               \n",
      "ðŸ�ƒ View run carefree-whale-167 at: http://127.0.0.1:5000/#/experiments/1/runs/34fdfc4e37d048b18a888d068613ee98\n",
      "\n",
      "\n",
      " 47%|â–ˆâ–ˆâ–ˆâ–ˆâ–‹     | 7/15 [00:54<01:17,  9.69s/trial, best loss: 5.354695072530291]\n",
      "                                                                               \n",
      "ðŸ§ª View experiment at: http://127.0.0.1:5000/#/experiments/1\n",
      "\n",
      "\n",
      " 47%|â–ˆâ–ˆâ–ˆâ–ˆâ–‹     | 7/15 [00:54<01:17,  9.69s/trial, best loss: 5.354695072530291]\n",
      " 53%|â–ˆâ–ˆâ–ˆâ–ˆâ–ˆâ–Ž    | 8/15 [00:54<00:49,  7.05s/trial, best loss: 5.354695072530291]\n",
      "                                                                               \n",
      "ðŸ�ƒ View run valuable-loon-858 at: http://127.0.0.1:5000/#/experiments/1/runs/90eef5bc225445d290a87aa5b91bc068\n",
      "\n",
      "\n",
      " 53%|â–ˆâ–ˆâ–ˆâ–ˆâ–ˆâ–Ž    | 8/15 [01:02<00:49,  7.05s/trial, best loss: 5.354695072530291]\n",
      "                                                                               \n",
      "ðŸ§ª View experiment at: http://127.0.0.1:5000/#/experiments/1\n",
      "\n",
      "\n",
      " 53%|â–ˆâ–ˆâ–ˆâ–ˆâ–ˆâ–Ž    | 8/15 [01:02<00:49,  7.05s/trial, best loss: 5.354695072530291]\n",
      " 60%|â–ˆâ–ˆâ–ˆâ–ˆâ–ˆâ–ˆ    | 9/15 [01:02<00:44,  7.41s/trial, best loss: 5.354695072530291]\n",
      "                                                                               \n",
      "ðŸ�ƒ View run debonair-ant-805 at: http://127.0.0.1:5000/#/experiments/1/runs/5301855b46fa4d00b2a1d0392853d38b\n",
      "\n",
      "\n",
      " 60%|â–ˆâ–ˆâ–ˆâ–ˆâ–ˆâ–ˆ    | 9/15 [01:09<00:44,  7.41s/trial, best loss: 5.354695072530291]\n",
      "                                                                               \n",
      "ðŸ§ª View experiment at: http://127.0.0.1:5000/#/experiments/1\n",
      "\n",
      "\n",
      " 60%|â–ˆâ–ˆâ–ˆâ–ˆâ–ˆâ–ˆ    | 9/15 [01:09<00:44,  7.41s/trial, best loss: 5.354695072530291]\n",
      " 67%|â–ˆâ–ˆâ–ˆâ–ˆâ–ˆâ–ˆâ–‹   | 10/15 [01:09<00:36,  7.21s/trial, best loss: 5.354695072530291]\n",
      "                                                                                \n",
      "ðŸ�ƒ View run defiant-fawn-390 at: http://127.0.0.1:5000/#/experiments/1/runs/d38206f898a74f27b73428316dafb0fe\n",
      "\n",
      "\n",
      " 67%|â–ˆâ–ˆâ–ˆâ–ˆâ–ˆâ–ˆâ–‹   | 10/15 [01:15<00:36,  7.21s/trial, best loss: 5.354695072530291]\n",
      "                                                                                \n",
      "ðŸ§ª View experiment at: http://127.0.0.1:5000/#/experiments/1\n",
      "\n",
      "\n",
      " 67%|â–ˆâ–ˆâ–ˆâ–ˆâ–ˆâ–ˆâ–‹   | 10/15 [01:15<00:36,  7.21s/trial, best loss: 5.354695072530291]\n",
      " 73%|â–ˆâ–ˆâ–ˆâ–ˆâ–ˆâ–ˆâ–ˆâ–Ž  | 11/15 [01:15<00:26,  6.68s/trial, best loss: 5.335419588556921]\n",
      "                                                                                \n",
      "ðŸ�ƒ View run defiant-cub-602 at: http://127.0.0.1:5000/#/experiments/1/runs/f786ecc061804457b8e9dafda336489e\n",
      "\n",
      "\n",
      " 73%|â–ˆâ–ˆâ–ˆâ–ˆâ–ˆâ–ˆâ–ˆâ–Ž  | 11/15 [01:19<00:26,  6.68s/trial, best loss: 5.335419588556921]\n",
      "                                                                                \n",
      "ðŸ§ª View experiment at: http://127.0.0.1:5000/#/experiments/1\n",
      "\n",
      "\n",
      " 73%|â–ˆâ–ˆâ–ˆâ–ˆâ–ˆâ–ˆâ–ˆâ–Ž  | 11/15 [01:19<00:26,  6.68s/trial, best loss: 5.335419588556921]\n",
      " 80%|â–ˆâ–ˆâ–ˆâ–ˆâ–ˆâ–ˆâ–ˆâ–ˆ  | 12/15 [01:19<00:17,  5.89s/trial, best loss: 5.335419588556921]\n",
      "                                                                                \n",
      "ðŸ�ƒ View run worried-panda-478 at: http://127.0.0.1:5000/#/experiments/1/runs/6d5f5b039d424970b4617ec6419e364c\n",
      "\n",
      "\n",
      " 80%|â–ˆâ–ˆâ–ˆâ–ˆâ–ˆâ–ˆâ–ˆâ–ˆ  | 12/15 [01:20<00:17,  5.89s/trial, best loss: 5.335419588556921]\n",
      "                                                                                \n",
      "ðŸ§ª View experiment at: http://127.0.0.1:5000/#/experiments/1\n",
      "\n",
      "\n",
      " 80%|â–ˆâ–ˆâ–ˆâ–ˆâ–ˆâ–ˆâ–ˆâ–ˆ  | 12/15 [01:20<00:17,  5.89s/trial, best loss: 5.335419588556921]\n",
      " 87%|â–ˆâ–ˆâ–ˆâ–ˆâ–ˆâ–ˆâ–ˆâ–ˆâ–‹ | 13/15 [01:20<00:09,  4.52s/trial, best loss: 5.335419588556921]\n",
      "                                                                                \n",
      "ðŸ�ƒ View run orderly-wasp-123 at: http://127.0.0.1:5000/#/experiments/1/runs/8eda91425e304ee59f66c3b720c9f3d1\n",
      "\n",
      "\n",
      " 87%|â–ˆâ–ˆâ–ˆâ–ˆâ–ˆâ–ˆâ–ˆâ–ˆâ–‹ | 13/15 [01:25<00:09,  4.52s/trial, best loss: 5.335419588556921]\n",
      "                                                                                \n",
      "ðŸ§ª View experiment at: http://127.0.0.1:5000/#/experiments/1\n",
      "\n",
      "\n",
      " 87%|â–ˆâ–ˆâ–ˆâ–ˆâ–ˆâ–ˆâ–ˆâ–ˆâ–‹ | 13/15 [01:25<00:09,  4.52s/trial, best loss: 5.335419588556921]\n",
      " 93%|â–ˆâ–ˆâ–ˆâ–ˆâ–ˆâ–ˆâ–ˆâ–ˆâ–ˆâ–Ž| 14/15 [01:25<00:04,  4.66s/trial, best loss: 5.335419588556921]\n",
      "                                                                                \n",
      "ðŸ�ƒ View run intrigued-eel-766 at: http://127.0.0.1:5000/#/experiments/1/runs/ff39b445119d4634bb557ea7d2a2ed0b\n",
      "\n",
      "\n",
      " 93%|â–ˆâ–ˆâ–ˆâ–ˆâ–ˆâ–ˆâ–ˆâ–ˆâ–ˆâ–Ž| 14/15 [01:33<00:04,  4.66s/trial, best loss: 5.335419588556921]\n",
      "                                                                                \n",
      "ðŸ§ª View experiment at: http://127.0.0.1:5000/#/experiments/1\n",
      "\n",
      "\n",
      " 93%|â–ˆâ–ˆâ–ˆâ–ˆâ–ˆâ–ˆâ–ˆâ–ˆâ–ˆâ–Ž| 14/15 [01:33<00:04,  4.66s/trial, best loss: 5.335419588556921]\n",
      "100%|â–ˆâ–ˆâ–ˆâ–ˆâ–ˆâ–ˆâ–ˆâ–ˆâ–ˆâ–ˆ| 15/15 [01:33<00:00,  5.59s/trial, best loss: 5.335419588556921]\n",
      "100%|â–ˆâ–ˆâ–ˆâ–ˆâ–ˆâ–ˆâ–ˆâ–ˆâ–ˆâ–ˆ| 15/15 [01:33<00:00,  6.22s/trial, best loss: 5.335419588556921]\n"
     ]
    }
   ],
   "source": [
    "! python ./homework/hpo.py --data_path ../data/output"
   ]
  },
  {
   "cell_type": "code",
   "execution_count": null,
   "id": "6563deb4-b959-419c-a639-c6469d3985a8",
   "metadata": {},
   "outputs": [],
   "source": []
  },
  {
   "cell_type": "code",
   "execution_count": null,
   "id": "94d2e439-77e0-4828-bcee-addf8c8d546b",
   "metadata": {},
   "outputs": [],
   "source": []
  },
  {
   "cell_type": "code",
   "execution_count": 56,
   "id": "4536c3b2-c0e5-4257-bc4f-94da85c07696",
   "metadata": {},
   "outputs": [
    {
     "data": {
      "text/plain": [
       "<mlflow.tracking.client.MlflowClient at 0x244cccf2810>"
      ]
     },
     "execution_count": 56,
     "metadata": {},
     "output_type": "execute_result"
    }
   ],
   "source": [
    "client = mlflow.client.MlflowClient(\"http://127.0.0.1:5000\")\n",
    "client"
   ]
  },
  {
   "cell_type": "code",
   "execution_count": 57,
   "id": "386f4bec-40d9-45df-bc25-73384b2c7912",
   "metadata": {},
   "outputs": [
    {
     "data": {
      "text/plain": [
       "[<Experiment: artifact_location='file:///c:/Users/Gleb/work/courses/2025-05-12_mlops-course/mlops-zoomcamp-homework/02-experiment-tracking/mlflow/artifacts/1', creation_time=1748201578163, experiment_id='1', last_update_time=1748201578163, lifecycle_stage='active', name='random-forest-hyperopt', tags={}>,\n",
       " <Experiment: artifact_location='file:///c:/Users/Gleb/work/courses/2025-05-12_mlops-course/mlops-zoomcamp-homework/02-experiment-tracking/mlflow/artifacts/0', creation_time=1748200950626, experiment_id='0', last_update_time=1748200950626, lifecycle_stage='active', name='Default', tags={}>]"
      ]
     },
     "execution_count": 57,
     "metadata": {},
     "output_type": "execute_result"
    }
   ],
   "source": [
    "experiments = client.search_experiments()\n",
    "experiments"
   ]
  },
  {
   "cell_type": "code",
   "execution_count": 83,
   "id": "c7f01d07-e38a-4f50-b7d1-99162b5ebd13",
   "metadata": {},
   "outputs": [
    {
     "data": {
      "text/plain": [
       "(18,\n",
       " <Run: data=<RunData: metrics={'rmse': 5.355041749098929}, params={'max_depth': '20',\n",
       "  'min_samples_leaf': '1',\n",
       "  'min_samples_split': '9',\n",
       "  'n_estimators': '19',\n",
       "  'random_state': '42'}, tags={'mlflow.runName': 'intrigued-eel-766',\n",
       "  'mlflow.source.git.commit': 'ed191bbe04ba2174daca69a349b18508a0fe2939',\n",
       "  'mlflow.source.name': './homework/hpo.py',\n",
       "  'mlflow.source.type': 'LOCAL',\n",
       "  'mlflow.user': 'Gleb'}>, info=<RunInfo: artifact_uri='file:///c:/Users/Gleb/work/courses/2025-05-12_mlops-course/mlops-zoomcamp-homework/02-experiment-tracking/mlflow/artifacts/1/ff39b445119d4634bb557ea7d2a2ed0b/artifacts', end_time=1748202909954, experiment_id='1', lifecycle_stage='active', run_id='ff39b445119d4634bb557ea7d2a2ed0b', run_name='intrigued-eel-766', run_uuid='ff39b445119d4634bb557ea7d2a2ed0b', start_time=1748202902254, status='FINISHED', user_id='Gleb'>, inputs=<RunInputs: dataset_inputs=[]>>)"
      ]
     },
     "execution_count": 83,
     "metadata": {},
     "output_type": "execute_result"
    }
   ],
   "source": [
    "runs = client.search_runs('1')\n",
    "len(runs), runs[0]"
   ]
  },
  {
   "cell_type": "code",
   "execution_count": null,
   "id": "f81f16f3-712e-4e6a-a7b2-ded8fe88494c",
   "metadata": {},
   "outputs": [],
   "source": []
  },
  {
   "cell_type": "code",
   "execution_count": null,
   "id": "42545c1f-c6ee-4ec3-8309-8ef4e4389ac5",
   "metadata": {},
   "outputs": [],
   "source": []
  },
  {
   "cell_type": "code",
   "execution_count": 72,
   "id": "5aafb8fc-291f-402b-a3f8-2e34dfd4716d",
   "metadata": {},
   "outputs": [
    {
     "data": {
      "text/plain": [
       "info.artifact_uri                     file:///c:/Users/Gleb/work/courses/2025-05-12_...\n",
       "info.end_time                                                           1748202909954.0\n",
       "info.experiment_id                                                                    1\n",
       "info.lifecycle_stage                                                             active\n",
       "info.run_id                                            ff39b445119d4634bb557ea7d2a2ed0b\n",
       "info.run_name                                                         intrigued-eel-766\n",
       "info.run_uuid                                          ff39b445119d4634bb557ea7d2a2ed0b\n",
       "info.start_time                                                           1748202902254\n",
       "info.status                                                                    FINISHED\n",
       "info.user_id                                                                       Gleb\n",
       "data.metrics.rmse                                                              5.355042\n",
       "data.params.max_depth                                                                20\n",
       "data.params.min_samples_leaf                                                          1\n",
       "data.params.min_samples_split                                                         9\n",
       "data.params.n_estimators                                                             19\n",
       "data.params.random_state                                                             42\n",
       "data.tags.mlflow.user                                                              Gleb\n",
       "data.tags.mlflow.source.name                                          ./homework/hpo.py\n",
       "data.tags.mlflow.source.type                                                      LOCAL\n",
       "data.tags.mlflow.source.git.commit             ed191bbe04ba2174daca69a349b18508a0fe2939\n",
       "data.tags.mlflow.runName                                              intrigued-eel-766\n",
       "inputs.dataset_inputs                                                                []\n",
       "Name: 0, dtype: object"
      ]
     },
     "execution_count": 72,
     "metadata": {},
     "output_type": "execute_result"
    }
   ],
   "source": [
    "df = pd.json_normalize([i.to_dictionary() for i in runs])\n",
    "df.loc[0].T"
   ]
  },
  {
   "cell_type": "code",
   "execution_count": null,
   "id": "4cc76f6a-85af-471f-8255-98be236413af",
   "metadata": {},
   "outputs": [],
   "source": []
  },
  {
   "cell_type": "code",
   "execution_count": 76,
   "id": "344b1621-d8d1-4a50-a465-c0576e7c8a2c",
   "metadata": {},
   "outputs": [
    {
     "data": {
      "text/plain": [
       "Index(['data.metrics.rmse', 'data.params.max_depth',\n",
       "       'data.params.min_samples_leaf', 'data.params.min_samples_split',\n",
       "       'data.params.n_estimators', 'data.params.random_state'],\n",
       "      dtype='object')"
      ]
     },
     "execution_count": 76,
     "metadata": {},
     "output_type": "execute_result"
    }
   ],
   "source": [
    "columns = df.columns.str.contains('data.metrics') | df.columns.str.contains('data.params')\n",
    "df.columns[columns]"
   ]
  },
  {
   "cell_type": "code",
   "execution_count": 79,
   "id": "33c347c2-3421-4289-bbcb-cee6d3db65be",
   "metadata": {},
   "outputs": [
    {
     "data": {
      "text/html": [
       "<div>\n",
       "<style scoped>\n",
       "    .dataframe tbody tr th:only-of-type {\n",
       "        vertical-align: middle;\n",
       "    }\n",
       "\n",
       "    .dataframe tbody tr th {\n",
       "        vertical-align: top;\n",
       "    }\n",
       "\n",
       "    .dataframe thead th {\n",
       "        text-align: right;\n",
       "    }\n",
       "</style>\n",
       "<table border=\"1\" class=\"dataframe\">\n",
       "  <thead>\n",
       "    <tr style=\"text-align: right;\">\n",
       "      <th></th>\n",
       "      <th>4</th>\n",
       "      <th>9</th>\n",
       "      <th>0</th>\n",
       "      <th>11</th>\n",
       "      <th>5</th>\n",
       "      <th>8</th>\n",
       "      <th>16</th>\n",
       "      <th>14</th>\n",
       "      <th>15</th>\n",
       "      <th>17</th>\n",
       "      <th>1</th>\n",
       "      <th>6</th>\n",
       "      <th>10</th>\n",
       "      <th>7</th>\n",
       "      <th>3</th>\n",
       "      <th>2</th>\n",
       "      <th>12</th>\n",
       "      <th>13</th>\n",
       "    </tr>\n",
       "  </thead>\n",
       "  <tbody>\n",
       "    <tr>\n",
       "      <th>data.metrics.rmse</th>\n",
       "      <td>5.33542</td>\n",
       "      <td>5.354695</td>\n",
       "      <td>5.355042</td>\n",
       "      <td>5.357491</td>\n",
       "      <td>5.36336</td>\n",
       "      <td>5.363708</td>\n",
       "      <td>5.370086</td>\n",
       "      <td>5.370086</td>\n",
       "      <td>5.370086</td>\n",
       "      <td>5.370086</td>\n",
       "      <td>5.371596</td>\n",
       "      <td>5.410519</td>\n",
       "      <td>5.443141</td>\n",
       "      <td>5.464643</td>\n",
       "      <td>5.484068</td>\n",
       "      <td>5.53807</td>\n",
       "      <td>5.61765</td>\n",
       "      <td>6.336045</td>\n",
       "    </tr>\n",
       "    <tr>\n",
       "      <th>data.params.max_depth</th>\n",
       "      <td>19</td>\n",
       "      <td>15</td>\n",
       "      <td>20</td>\n",
       "      <td>14</td>\n",
       "      <td>14</td>\n",
       "      <td>18</td>\n",
       "      <td>13</td>\n",
       "      <td>13</td>\n",
       "      <td>13</td>\n",
       "      <td>13</td>\n",
       "      <td>18</td>\n",
       "      <td>12</td>\n",
       "      <td>8</td>\n",
       "      <td>7</td>\n",
       "      <td>7</td>\n",
       "      <td>5</td>\n",
       "      <td>4</td>\n",
       "      <td>2</td>\n",
       "    </tr>\n",
       "    <tr>\n",
       "      <th>data.params.min_samples_leaf</th>\n",
       "      <td>2</td>\n",
       "      <td>2</td>\n",
       "      <td>1</td>\n",
       "      <td>3</td>\n",
       "      <td>2</td>\n",
       "      <td>1</td>\n",
       "      <td>4</td>\n",
       "      <td>4</td>\n",
       "      <td>4</td>\n",
       "      <td>4</td>\n",
       "      <td>1</td>\n",
       "      <td>1</td>\n",
       "      <td>2</td>\n",
       "      <td>3</td>\n",
       "      <td>1</td>\n",
       "      <td>3</td>\n",
       "      <td>3</td>\n",
       "      <td>4</td>\n",
       "    </tr>\n",
       "    <tr>\n",
       "      <th>data.params.min_samples_split</th>\n",
       "      <td>2</td>\n",
       "      <td>3</td>\n",
       "      <td>9</td>\n",
       "      <td>4</td>\n",
       "      <td>6</td>\n",
       "      <td>10</td>\n",
       "      <td>7</td>\n",
       "      <td>7</td>\n",
       "      <td>7</td>\n",
       "      <td>7</td>\n",
       "      <td>6</td>\n",
       "      <td>8</td>\n",
       "      <td>3</td>\n",
       "      <td>9</td>\n",
       "      <td>7</td>\n",
       "      <td>8</td>\n",
       "      <td>3</td>\n",
       "      <td>7</td>\n",
       "    </tr>\n",
       "    <tr>\n",
       "      <th>data.params.n_estimators</th>\n",
       "      <td>11</td>\n",
       "      <td>40</td>\n",
       "      <td>19</td>\n",
       "      <td>26</td>\n",
       "      <td>23</td>\n",
       "      <td>38</td>\n",
       "      <td>43</td>\n",
       "      <td>43</td>\n",
       "      <td>43</td>\n",
       "      <td>43</td>\n",
       "      <td>13</td>\n",
       "      <td>39</td>\n",
       "      <td>30</td>\n",
       "      <td>13</td>\n",
       "      <td>41</td>\n",
       "      <td>21</td>\n",
       "      <td>16</td>\n",
       "      <td>22</td>\n",
       "    </tr>\n",
       "    <tr>\n",
       "      <th>data.params.random_state</th>\n",
       "      <td>42</td>\n",
       "      <td>42</td>\n",
       "      <td>42</td>\n",
       "      <td>42</td>\n",
       "      <td>42</td>\n",
       "      <td>42</td>\n",
       "      <td>42</td>\n",
       "      <td>42</td>\n",
       "      <td>42</td>\n",
       "      <td>42</td>\n",
       "      <td>42</td>\n",
       "      <td>42</td>\n",
       "      <td>42</td>\n",
       "      <td>42</td>\n",
       "      <td>42</td>\n",
       "      <td>42</td>\n",
       "      <td>42</td>\n",
       "      <td>42</td>\n",
       "    </tr>\n",
       "  </tbody>\n",
       "</table>\n",
       "</div>"
      ],
      "text/plain": [
       "                                    4         9         0         11       5   \\\n",
       "data.metrics.rmse              5.33542  5.354695  5.355042  5.357491  5.36336   \n",
       "data.params.max_depth               19        15        20        14       14   \n",
       "data.params.min_samples_leaf         2         2         1         3        2   \n",
       "data.params.min_samples_split        2         3         9         4        6   \n",
       "data.params.n_estimators            11        40        19        26       23   \n",
       "data.params.random_state            42        42        42        42       42   \n",
       "\n",
       "                                     8         16        14        15  \\\n",
       "data.metrics.rmse              5.363708  5.370086  5.370086  5.370086   \n",
       "data.params.max_depth                18        13        13        13   \n",
       "data.params.min_samples_leaf          1         4         4         4   \n",
       "data.params.min_samples_split        10         7         7         7   \n",
       "data.params.n_estimators             38        43        43        43   \n",
       "data.params.random_state             42        42        42        42   \n",
       "\n",
       "                                     17        1         6         10  \\\n",
       "data.metrics.rmse              5.370086  5.371596  5.410519  5.443141   \n",
       "data.params.max_depth                13        18        12         8   \n",
       "data.params.min_samples_leaf          4         1         1         2   \n",
       "data.params.min_samples_split         7         6         8         3   \n",
       "data.params.n_estimators             43        13        39        30   \n",
       "data.params.random_state             42        42        42        42   \n",
       "\n",
       "                                     7         3        2        12        13  \n",
       "data.metrics.rmse              5.464643  5.484068  5.53807  5.61765  6.336045  \n",
       "data.params.max_depth                 7         7        5        4         2  \n",
       "data.params.min_samples_leaf          3         1        3        3         4  \n",
       "data.params.min_samples_split         9         7        8        3         7  \n",
       "data.params.n_estimators             13        41       21       16        22  \n",
       "data.params.random_state             42        42       42       42        42  "
      ]
     },
     "execution_count": 79,
     "metadata": {},
     "output_type": "execute_result"
    }
   ],
   "source": [
    "df[df.columns[columns]].sort_values('data.metrics.rmse').T"
   ]
  },
  {
   "cell_type": "code",
   "execution_count": null,
   "id": "08324e8e-3816-479a-aff2-b11fd6a1c033",
   "metadata": {},
   "outputs": [],
   "source": []
  },
  {
   "cell_type": "code",
   "execution_count": null,
   "id": "4d2ca53d-ec46-49d3-b9c0-0bde6fe2b5f7",
   "metadata": {},
   "outputs": [],
   "source": []
  },
  {
   "cell_type": "code",
   "execution_count": 109,
   "id": "528bb278-4925-47dc-9efe-901c127c966e",
   "metadata": {},
   "outputs": [],
   "source": [
    "import matplotlib.pyplot as plt\n",
    "from matplotlib import cm\n",
    "plt.style.use('seaborn-v0_8')"
   ]
  },
  {
   "cell_type": "code",
   "execution_count": 113,
   "id": "4bda848f-928c-4a2a-8e32-40223f5fd42b",
   "metadata": {},
   "outputs": [
    {
     "data": {
      "text/plain": [
       "Text(0.5, 1.0, 'Hyperparameter Optimization Results')"
      ]
     },
     "execution_count": 113,
     "metadata": {},
     "output_type": "execute_result"
    },
    {
     "data": {
      "image/png": "[encoded data removed]",
      "text/plain": [
       "<Figure size 1500x500 with 2 Axes>"
      ]
     },
     "metadata": {},
     "output_type": "display_data"
    }
   ],
   "source": [
    "df_sorted = df[df.columns[columns]].sort_values('data.metrics.rmse')\n",
    "\n",
    "rmse_values = df_sorted['data.metrics.rmse']\n",
    "norm = plt.Normalize(rmse_values.min(), rmse_values.max())\n",
    "cmap = cm.viridis \n",
    "\n",
    "fig, ax = plt.subplots(figsize=(15, 5))\n",
    "\n",
    "pd.plotting.parallel_coordinates(\n",
    "    df_sorted,#.drop(columns=['data.metrics.rmse']), \n",
    "    class_column='data.metrics.rmse',  \n",
    "    colormap=cmap, \n",
    "    ax=ax,\n",
    ")\n",
    "\n",
    "ax.legend().set_visible(False)\n",
    "plt.xticks(rotation=45, ha='right')\n",
    "plt.grid(True, alpha=1)\n",
    "\n",
    "sm = cm.ScalarMappable(cmap=cmap, norm=norm)\n",
    "sm.set_array([])\n",
    "cbar = plt.colorbar(sm, ax=ax)\n",
    "cbar.set_label('RMSE')\n",
    "\n",
    "plt.title('Hyperparameter Optimization Results', fontsize=14, pad=20)"
   ]
  },
  {
   "cell_type": "code",
   "execution_count": null,
   "id": "889410bc-b6ca-4882-81e7-cf30ab39ae66",
   "metadata": {},
   "outputs": [],
   "source": []
  },
  {
   "cell_type": "code",
   "execution_count": 115,
   "id": "e1193a4f-3b8d-41f9-8fc3-6a74226e34db",
   "metadata": {},
   "outputs": [
    {
     "data": {
      "text/plain": [
       "data.metrics.rmse                5.33542\n",
       "data.params.max_depth                 19\n",
       "data.params.min_samples_leaf           2\n",
       "data.params.min_samples_split          2\n",
       "data.params.n_estimators              11\n",
       "data.params.random_state              42\n",
       "Name: 4, dtype: object"
      ]
     },
     "execution_count": 115,
     "metadata": {},
     "output_type": "execute_result"
    }
   ],
   "source": [
    "df_sorted.iloc[0]"
   ]
  },
  {
   "cell_type": "code",
   "execution_count": null,
   "id": "e91b69bb-6fbb-4e32-a8a6-0071375ca835",
   "metadata": {},
   "outputs": [],
   "source": []
  },
  {
   "cell_type": "code",
   "execution_count": null,
   "id": "bca8ce3b-00e6-4b8e-941c-09efb9987723",
   "metadata": {},
   "outputs": [],
   "source": []
  },
  {
   "cell_type": "markdown",
   "id": "d995937f-ed66-40e3-908b-9eb5ffdc6863",
   "metadata": {},
   "source": [
    "## Q6. Promote the best model to the model registry\n",
    "---\n",
    "The results from the hyperparameter optimization are quite good. So, we can assume that we are ready to test some of these models in production. In this exercise, you'll promote the best model to the model registry. We have prepared a script called register_model.py, which will check the results from the previous step and select the top 5 runs. After that, it will calculate the RMSE of those models on the test set (March 2023 data) and save the results to a new experiment called random-forest-best-models.\n",
    "\n",
    "Your task is to update the script register_model.py so that it selects the model with the lowest RMSE on the test set and registers it to the model registry.\n",
    "\n",
    "Tip 1: you can use the method search_runs from the MlflowClient to get the model with the lowest RMSE,\n",
    "\n",
    "Tip 2: to register the model you can use the method mlflow.register_model and you will need to pass the right model_uri in the form of a string that looks like this: \"runs:/<RUN_ID>/model\", and the name of the model (make sure to choose a good one!).\n",
    "\n",
    "What is the test RMSE of the best model?\n",
    "\n",
    "* ~~5.060~~\n",
    "* **5.567**\n",
    "* ~~6.061~~\n",
    "* ~~6.568~~"
   ]
  },
  {
   "cell_type": "code",
   "execution_count": null,
   "id": "90fe447a-bfc7-4506-9eda-c25b6687e069",
   "metadata": {},
   "outputs": [],
   "source": []
  },
  {
   "cell_type": "code",
   "execution_count": null,
   "id": "91786e8b-b20c-449f-84f5-8bb30b4dcadc",
   "metadata": {},
   "outputs": [],
   "source": []
  },
  {
   "cell_type": "code",
   "execution_count": 117,
   "id": "4d156ba6-0e1a-48ea-9e15-173297009733",
   "metadata": {},
   "outputs": [
    {
     "name": "stdout",
     "output_type": "stream",
     "text": [
      "Usage: register_model.py [OPTIONS]\n",
      "\n",
      "Options:\n",
      "  --data_path TEXT  Location where the processed NYC taxi trip data was saved\n",
      "  --top_n INTEGER   Number of top models that need to be evaluated to decide\n",
      "                    which one to promote\n",
      "  --help            Show this message and exit.\n"
     ]
    },
    {
     "name": "stderr",
     "output_type": "stream",
     "text": [
      "2025/05/25 23:45:54 INFO mlflow.tracking.fluent: Experiment with name 'random-forest-best-models' does not exist. Creating a new experiment.\n"
     ]
    }
   ],
   "source": [
    "! python ./homework/register_model.py --help"
   ]
  },
  {
   "cell_type": "code",
   "execution_count": null,
   "id": "b4fbe09b-fd58-4ae4-afcb-406988f64127",
   "metadata": {},
   "outputs": [],
   "source": []
  },
  {
   "cell_type": "code",
   "execution_count": 31,
   "id": "6fa58577-bd1d-46aa-8342-3933d360a13c",
   "metadata": {},
   "outputs": [],
   "source": [
    "import os\n",
    "os.environ['PYTHONIOENCODING'] = 'utf-8'"
   ]
  },
  {
   "cell_type": "code",
   "execution_count": 36,
   "id": "436d1204-e9d7-4f6d-9733-53e3fc9e62b7",
   "metadata": {},
   "outputs": [
    {
     "name": "stdout",
     "output_type": "stream",
     "text": [
      "ðŸ�ƒ View run fun-loon-613 at: http://127.0.0.1:5000/#/experiments/2/runs/9017bb609174441d870abf9f5d880ff4\n",
      "ðŸ§ª View experiment at: http://127.0.0.1:5000/#/experiments/2\n",
      "ðŸ�ƒ View run nosy-skunk-925 at: http://127.0.0.1:5000/#/experiments/2/runs/f2b1d1a8fcd14344b65e820f326f773c\n",
      "ðŸ§ª View experiment at: http://127.0.0.1:5000/#/experiments/2\n",
      "ðŸ�ƒ View run fearless-colt-141 at: http://127.0.0.1:5000/#/experiments/2/runs/1a920e7cb0a64ff7ae2e5552601ff798\n",
      "ðŸ§ª View experiment at: http://127.0.0.1:5000/#/experiments/2\n",
      "ðŸ�ƒ View run dazzling-hare-19 at: http://127.0.0.1:5000/#/experiments/2/runs/0f968b2248e442e386581359dc99d298\n",
      "ðŸ§ª View experiment at: http://127.0.0.1:5000/#/experiments/2\n",
      "ðŸ�ƒ View run rare-kit-211 at: http://127.0.0.1:5000/#/experiments/2/runs/1921f0f0c4d54d5da58d8e54d29f5a19\n",
      "ðŸ§ª View experiment at: http://127.0.0.1:5000/#/experiments/2\n"
     ]
    },
    {
     "name": "stderr",
     "output_type": "stream",
     "text": [
      "2025/05/26 01:54:09 WARNING mlflow.models.model: Model logged without a signature and input example. Please set `input_example` parameter when logging the model to auto infer the model signature.\n",
      "2025/05/26 01:54:32 WARNING mlflow.models.model: Model logged without a signature and input example. Please set `input_example` parameter when logging the model to auto infer the model signature.\n",
      "2025/05/26 01:54:46 WARNING mlflow.models.model: Model logged without a signature and input example. Please set `input_example` parameter when logging the model to auto infer the model signature.\n",
      "2025/05/26 01:55:01 WARNING mlflow.models.model: Model logged without a signature and input example. Please set `input_example` parameter when logging the model to auto infer the model signature.\n",
      "2025/05/26 01:55:14 WARNING mlflow.models.model: Model logged without a signature and input example. Please set `input_example` parameter when logging the model to auto infer the model signature.\n",
      "Successfully registered model 'best_model'.\n",
      "2025/05/26 01:55:15 INFO mlflow.store.model_registry.abstract_store: Waiting up to 300 seconds for model version to finish creation. Model name: best_model, version 1\n",
      "Created version '1' of model 'best_model'.\n"
     ]
    }
   ],
   "source": [
    "! python ./homework/register_model.py --data_path ../data/output"
   ]
  },
  {
   "cell_type": "code",
   "execution_count": null,
   "id": "d4ebe943-e272-46d4-bee8-08e02afffc85",
   "metadata": {},
   "outputs": [],
   "source": []
  },
  {
   "cell_type": "code",
   "execution_count": 53,
   "id": "68ea5a86-5e13-4756-b228-74c42111a8cc",
   "metadata": {},
   "outputs": [
    {
     "data": {
      "text/plain": [
       "[<Experiment: artifact_location='file:///c:/Users/Gleb/work/courses/2025-05-12_mlops-course/mlops-zoomcamp-homework/02-experiment-tracking/mlflow/artifacts/2', creation_time=1748205954662, experiment_id='2', last_update_time=1748205954662, lifecycle_stage='active', name='random-forest-best-models', tags={}>,\n",
       " <Experiment: artifact_location='file:///c:/Users/Gleb/work/courses/2025-05-12_mlops-course/mlops-zoomcamp-homework/02-experiment-tracking/mlflow/artifacts/1', creation_time=1748201578163, experiment_id='1', last_update_time=1748201578163, lifecycle_stage='active', name='random-forest-hyperopt', tags={}>,\n",
       " <Experiment: artifact_location='file:///c:/Users/Gleb/work/courses/2025-05-12_mlops-course/mlops-zoomcamp-homework/02-experiment-tracking/mlflow/artifacts/0', creation_time=1748200950626, experiment_id='0', last_update_time=1748200950626, lifecycle_stage='active', name='Default', tags={}>]"
      ]
     },
     "execution_count": 53,
     "metadata": {},
     "output_type": "execute_result"
    }
   ],
   "source": [
    "client.search_experiments()"
   ]
  },
  {
   "cell_type": "code",
   "execution_count": 54,
   "id": "6f9fba1b-ca31-4e8a-bb5f-be6c1dd9d770",
   "metadata": {},
   "outputs": [
    {
     "data": {
      "text/plain": [
       "(<Experiment: artifact_location='file:///c:/Users/Gleb/work/courses/2025-05-12_mlops-course/mlops-zoomcamp-homework/02-experiment-tracking/mlflow/artifacts/2', creation_time=1748205954662, experiment_id='2', last_update_time=1748205954662, lifecycle_stage='active', name='random-forest-best-models', tags={}>,\n",
       " '2')"
      ]
     },
     "execution_count": 54,
     "metadata": {},
     "output_type": "execute_result"
    }
   ],
   "source": [
    "experiment = client.get_experiment_by_name(\"random-forest-best-models\")\n",
    "experiment, experiment.experiment_id"
   ]
  },
  {
   "cell_type": "code",
   "execution_count": 55,
   "id": "f37b11fe-86c6-445e-8100-6bb773247215",
   "metadata": {
    "scrolled": true
   },
   "outputs": [
    {
     "data": {
      "text/plain": [
       "(5,\n",
       " <Run: data=<RunData: metrics={'test_rmse': 5.5941605655803635,\n",
       "  'training_mean_absolute_error': 3.323916924052877,\n",
       "  'training_mean_squared_error': 26.08294493276463,\n",
       "  'training_r2_score': 0.6796805248104354,\n",
       "  'training_root_mean_squared_error': 5.107146456952711,\n",
       "  'training_score': 0.6796805248104354,\n",
       "  'val_rmse': 5.3633599989832135}, params={'bootstrap': 'True',\n",
       "  'ccp_alpha': '0.0',\n",
       "  'criterion': 'squared_error',\n",
       "  'max_depth': '14',\n",
       "  'max_features': '1.0',\n",
       "  'max_leaf_nodes': 'None',\n",
       "  'max_samples': 'None',\n",
       "  'min_impurity_decrease': '0.0',\n",
       "  'min_samples_leaf': '2',\n",
       "  'min_samples_split': '6',\n",
       "  'min_weight_fraction_leaf': '0.0',\n",
       "  'monotonic_cst': 'None',\n",
       "  'n_estimators': '23',\n",
       "  'n_jobs': 'None',\n",
       "  'oob_score': 'False',\n",
       "  'random_state': '42',\n",
       "  'verbose': '0',\n",
       "  'warm_start': 'False'}, tags={'estimator_class': 'sklearn.ensemble._forest.RandomForestRegressor',\n",
       "  'estimator_name': 'RandomForestRegressor',\n",
       "  'mlflow.log-model.history': '[{\"run_id\": \"1921f0f0c4d54d5da58d8e54d29f5a19\", '\n",
       "                              '\"artifact_path\": \"model\", \"utc_time_created\": '\n",
       "                              '\"2025-05-25 22:55:08.897864\", \"model_uuid\": '\n",
       "                              '\"d5f1aa2e7d0f4837ad8113d08925ce13\", \"flavors\": '\n",
       "                              '{\"python_function\": {\"model_path\": \"model.pkl\", '\n",
       "                              '\"predict_fn\": \"predict\", \"loader_module\": '\n",
       "                              '\"mlflow.sklearn\", \"python_version\": \"3.12.4\", '\n",
       "                              '\"env\": {\"conda\": \"conda.yaml\", \"virtualenv\": '\n",
       "                              '\"python_env.yaml\"}}, \"sklearn\": '\n",
       "                              '{\"pickled_model\": \"model.pkl\", '\n",
       "                              '\"sklearn_version\": \"1.5.2\", '\n",
       "                              '\"serialization_format\": \"cloudpickle\", \"code\": '\n",
       "                              'null}}}]',\n",
       "  'mlflow.runName': 'rare-kit-211',\n",
       "  'mlflow.source.git.commit': 'ed191bbe04ba2174daca69a349b18508a0fe2939',\n",
       "  'mlflow.source.name': './homework/register_model.py',\n",
       "  'mlflow.source.type': 'LOCAL',\n",
       "  'mlflow.user': 'Gleb'}>, info=<RunInfo: artifact_uri='file:///c:/Users/Gleb/work/courses/2025-05-12_mlops-course/mlops-zoomcamp-homework/02-experiment-tracking/mlflow/artifacts/2/1921f0f0c4d54d5da58d8e54d29f5a19/artifacts', end_time=1748213715015, experiment_id='2', lifecycle_stage='active', run_id='1921f0f0c4d54d5da58d8e54d29f5a19', run_name='rare-kit-211', run_uuid='1921f0f0c4d54d5da58d8e54d29f5a19', start_time=1748213701910, status='FINISHED', user_id='Gleb'>, inputs=<RunInputs: dataset_inputs=[]>>)"
      ]
     },
     "execution_count": 55,
     "metadata": {},
     "output_type": "execute_result"
    }
   ],
   "source": [
    "runs = client.search_runs(experiment.experiment_id)\n",
    "len(runs), runs[0]"
   ]
  },
  {
   "cell_type": "code",
   "execution_count": null,
   "id": "b294d7ee-8c80-4b8d-8004-8aeb049f1f1f",
   "metadata": {},
   "outputs": [],
   "source": []
  },
  {
   "cell_type": "code",
   "execution_count": 56,
   "id": "81aa09e7-686c-47dc-a0ff-4b4603d87a28",
   "metadata": {},
   "outputs": [
    {
     "name": "stdout",
     "output_type": "stream",
     "text": [
      "run.info.run_id = '1921f0f0c4d54d5da58d8e54d29f5a19', run.data.metrics['test_rmse'] = 5.5942\n",
      "run.info.run_id = '0f968b2248e442e386581359dc99d298', run.data.metrics['test_rmse'] = 5.5895\n",
      "run.info.run_id = '1a920e7cb0a64ff7ae2e5552601ff798', run.data.metrics['test_rmse'] = 5.5921\n",
      "run.info.run_id = 'f2b1d1a8fcd14344b65e820f326f773c', run.data.metrics['test_rmse'] = 5.5853\n",
      "run.info.run_id = '9017bb609174441d870abf9f5d880ff4', run.data.metrics['test_rmse'] = 5.5674\n"
     ]
    }
   ],
   "source": [
    "for run in runs:\n",
    "    print(f\"{run.info.run_id = }, {run.data.metrics['test_rmse'] = :.4f}\")"
   ]
  },
  {
   "cell_type": "code",
   "execution_count": null,
   "id": "6499c54e-34ae-4a74-af61-d91966f57ade",
   "metadata": {},
   "outputs": [],
   "source": []
  },
  {
   "cell_type": "code",
   "execution_count": 57,
   "id": "f27f1cb6-5fe3-466e-afb7-38ca7a5c47cc",
   "metadata": {},
   "outputs": [],
   "source": [
    "df = pd.json_normalize([i.to_dictionary() for i in runs])"
   ]
  },
  {
   "cell_type": "code",
   "execution_count": 58,
   "id": "d7d380e8-6996-425f-aa53-22d476adf682",
   "metadata": {},
   "outputs": [
    {
     "data": {
      "text/html": [
       "<div>\n",
       "<style scoped>\n",
       "    .dataframe tbody tr th:only-of-type {\n",
       "        vertical-align: middle;\n",
       "    }\n",
       "\n",
       "    .dataframe tbody tr th {\n",
       "        vertical-align: top;\n",
       "    }\n",
       "\n",
       "    .dataframe thead th {\n",
       "        text-align: right;\n",
       "    }\n",
       "</style>\n",
       "<table border=\"1\" class=\"dataframe\">\n",
       "  <thead>\n",
       "    <tr style=\"text-align: right;\">\n",
       "      <th></th>\n",
       "      <th>info.run_id</th>\n",
       "      <th>data.metrics.training_mean_squared_error</th>\n",
       "      <th>data.metrics.training_mean_absolute_error</th>\n",
       "      <th>data.metrics.training_r2_score</th>\n",
       "      <th>data.metrics.training_root_mean_squared_error</th>\n",
       "      <th>data.metrics.training_score</th>\n",
       "      <th>data.metrics.val_rmse</th>\n",
       "      <th>data.metrics.test_rmse</th>\n",
       "    </tr>\n",
       "  </thead>\n",
       "  <tbody>\n",
       "    <tr>\n",
       "      <th>4</th>\n",
       "      <td>9017bb609174441d870abf9f5d880ff4</td>\n",
       "      <td>24.785660</td>\n",
       "      <td>3.233657</td>\n",
       "      <td>0.695612</td>\n",
       "      <td>4.978520</td>\n",
       "      <td>0.695612</td>\n",
       "      <td>5.335420</td>\n",
       "      <td>5.567408</td>\n",
       "    </tr>\n",
       "    <tr>\n",
       "      <th>3</th>\n",
       "      <td>f2b1d1a8fcd14344b65e820f326f773c</td>\n",
       "      <td>25.689000</td>\n",
       "      <td>3.299143</td>\n",
       "      <td>0.684518</td>\n",
       "      <td>5.068432</td>\n",
       "      <td>0.684518</td>\n",
       "      <td>5.354695</td>\n",
       "      <td>5.585312</td>\n",
       "    </tr>\n",
       "    <tr>\n",
       "      <th>1</th>\n",
       "      <td>0f968b2248e442e386581359dc99d298</td>\n",
       "      <td>26.271434</td>\n",
       "      <td>3.321008</td>\n",
       "      <td>0.677366</td>\n",
       "      <td>5.125567</td>\n",
       "      <td>0.677366</td>\n",
       "      <td>5.357491</td>\n",
       "      <td>5.589460</td>\n",
       "    </tr>\n",
       "    <tr>\n",
       "      <th>2</th>\n",
       "      <td>1a920e7cb0a64ff7ae2e5552601ff798</td>\n",
       "      <td>24.202383</td>\n",
       "      <td>3.248758</td>\n",
       "      <td>0.702775</td>\n",
       "      <td>4.919592</td>\n",
       "      <td>0.702775</td>\n",
       "      <td>5.355042</td>\n",
       "      <td>5.592132</td>\n",
       "    </tr>\n",
       "    <tr>\n",
       "      <th>0</th>\n",
       "      <td>1921f0f0c4d54d5da58d8e54d29f5a19</td>\n",
       "      <td>26.082945</td>\n",
       "      <td>3.323917</td>\n",
       "      <td>0.679681</td>\n",
       "      <td>5.107146</td>\n",
       "      <td>0.679681</td>\n",
       "      <td>5.363360</td>\n",
       "      <td>5.594161</td>\n",
       "    </tr>\n",
       "  </tbody>\n",
       "</table>\n",
       "</div>"
      ],
      "text/plain": [
       "                        info.run_id  data.metrics.training_mean_squared_error  \\\n",
       "4  9017bb609174441d870abf9f5d880ff4                                 24.785660   \n",
       "3  f2b1d1a8fcd14344b65e820f326f773c                                 25.689000   \n",
       "1  0f968b2248e442e386581359dc99d298                                 26.271434   \n",
       "2  1a920e7cb0a64ff7ae2e5552601ff798                                 24.202383   \n",
       "0  1921f0f0c4d54d5da58d8e54d29f5a19                                 26.082945   \n",
       "\n",
       "   data.metrics.training_mean_absolute_error  data.metrics.training_r2_score  \\\n",
       "4                                   3.233657                        0.695612   \n",
       "3                                   3.299143                        0.684518   \n",
       "1                                   3.321008                        0.677366   \n",
       "2                                   3.248758                        0.702775   \n",
       "0                                   3.323917                        0.679681   \n",
       "\n",
       "   data.metrics.training_root_mean_squared_error  data.metrics.training_score  \\\n",
       "4                                       4.978520                     0.695612   \n",
       "3                                       5.068432                     0.684518   \n",
       "1                                       5.125567                     0.677366   \n",
       "2                                       4.919592                     0.702775   \n",
       "0                                       5.107146                     0.679681   \n",
       "\n",
       "   data.metrics.val_rmse  data.metrics.test_rmse  \n",
       "4               5.335420                5.567408  \n",
       "3               5.354695                5.585312  \n",
       "1               5.357491                5.589460  \n",
       "2               5.355042                5.592132  \n",
       "0               5.363360                5.594161  "
      ]
     },
     "execution_count": 58,
     "metadata": {},
     "output_type": "execute_result"
    }
   ],
   "source": [
    "df[['info.run_id']+list(df.columns[df.columns.str.contains('data.metrics')])].sort_values('data.metrics.test_rmse')"
   ]
  },
  {
   "cell_type": "code",
   "execution_count": null,
   "id": "2a2c5047-41c8-45e4-b505-5147e90aab90",
   "metadata": {},
   "outputs": [],
   "source": []
  },
  {
   "cell_type": "code",
   "execution_count": 59,
   "id": "dcc4d6ec-67a7-4f22-a72d-2454d8af9610",
   "metadata": {
    "scrolled": true
   },
   "outputs": [
    {
     "data": {
      "text/plain": [
       "<Run: data=<RunData: metrics={'test_rmse': 5.567408012462019,\n",
       " 'training_mean_absolute_error': 3.23365652419934,\n",
       " 'training_mean_squared_error': 24.785660360279664,\n",
       " 'training_r2_score': 0.6956122194293166,\n",
       " 'training_root_mean_squared_error': 4.978519896543516,\n",
       " 'training_score': 0.6956122194293166,\n",
       " 'val_rmse': 5.335419588556921}, params={'bootstrap': 'True',\n",
       " 'ccp_alpha': '0.0',\n",
       " 'criterion': 'squared_error',\n",
       " 'max_depth': '19',\n",
       " 'max_features': '1.0',\n",
       " 'max_leaf_nodes': 'None',\n",
       " 'max_samples': 'None',\n",
       " 'min_impurity_decrease': '0.0',\n",
       " 'min_samples_leaf': '2',\n",
       " 'min_samples_split': '2',\n",
       " 'min_weight_fraction_leaf': '0.0',\n",
       " 'monotonic_cst': 'None',\n",
       " 'n_estimators': '11',\n",
       " 'n_jobs': 'None',\n",
       " 'oob_score': 'False',\n",
       " 'random_state': '42',\n",
       " 'verbose': '0',\n",
       " 'warm_start': 'False'}, tags={'estimator_class': 'sklearn.ensemble._forest.RandomForestRegressor',\n",
       " 'estimator_name': 'RandomForestRegressor',\n",
       " 'mlflow.log-model.history': '[{\"run_id\": \"9017bb609174441d870abf9f5d880ff4\", '\n",
       "                             '\"artifact_path\": \"model\", \"utc_time_created\": '\n",
       "                             '\"2025-05-25 22:53:59.431145\", \"model_uuid\": '\n",
       "                             '\"a702cb8f937e4a24aa349cf7cbfb6af4\", \"flavors\": '\n",
       "                             '{\"python_function\": {\"model_path\": \"model.pkl\", '\n",
       "                             '\"predict_fn\": \"predict\", \"loader_module\": '\n",
       "                             '\"mlflow.sklearn\", \"python_version\": \"3.12.4\", '\n",
       "                             '\"env\": {\"conda\": \"conda.yaml\", \"virtualenv\": '\n",
       "                             '\"python_env.yaml\"}}, \"sklearn\": '\n",
       "                             '{\"pickled_model\": \"model.pkl\", '\n",
       "                             '\"sklearn_version\": \"1.5.2\", '\n",
       "                             '\"serialization_format\": \"cloudpickle\", \"code\": '\n",
       "                             'null}}}]',\n",
       " 'mlflow.runName': 'fun-loon-613',\n",
       " 'mlflow.source.git.commit': 'ed191bbe04ba2174daca69a349b18508a0fe2939',\n",
       " 'mlflow.source.name': './homework/register_model.py',\n",
       " 'mlflow.source.type': 'LOCAL',\n",
       " 'mlflow.user': 'Gleb'}>, info=<RunInfo: artifact_uri='file:///c:/Users/Gleb/work/courses/2025-05-12_mlops-course/mlops-zoomcamp-homework/02-experiment-tracking/mlflow/artifacts/2/9017bb609174441d870abf9f5d880ff4/artifacts', end_time=1748213649995, experiment_id='2', lifecycle_stage='active', run_id='9017bb609174441d870abf9f5d880ff4', run_name='fun-loon-613', run_uuid='9017bb609174441d870abf9f5d880ff4', start_time=1748213633587, status='FINISHED', user_id='Gleb'>, inputs=<RunInputs: dataset_inputs=[]>>"
      ]
     },
     "execution_count": 59,
     "metadata": {},
     "output_type": "execute_result"
    }
   ],
   "source": [
    "best_run = client.search_runs(\n",
    "    experiment_ids = experiment.experiment_id, \n",
    "    max_results = 1,\n",
    "    order_by = ['metrics.test_rmse ASC'])[0]\n",
    "\n",
    "best_run"
   ]
  },
  {
   "cell_type": "code",
   "execution_count": null,
   "id": "a14baf36-f562-4fb2-a9f3-671caa2da22d",
   "metadata": {},
   "outputs": [],
   "source": []
  },
  {
   "cell_type": "code",
   "execution_count": 60,
   "id": "f217c303-6fd0-41da-a565-13838efdcbc9",
   "metadata": {},
   "outputs": [
    {
     "data": {
      "text/plain": [
       "{'training_mean_squared_error': 24.785660360279664,\n",
       " 'training_mean_absolute_error': 3.23365652419934,\n",
       " 'training_r2_score': 0.6956122194293166,\n",
       " 'training_root_mean_squared_error': 4.978519896543516,\n",
       " 'training_score': 0.6956122194293166,\n",
       " 'val_rmse': 5.335419588556921,\n",
       " 'test_rmse': 5.567408012462019}"
      ]
     },
     "execution_count": 60,
     "metadata": {},
     "output_type": "execute_result"
    }
   ],
   "source": [
    "best_run.data.metrics"
   ]
  },
  {
   "cell_type": "code",
   "execution_count": 61,
   "id": "757ad086-6384-4d37-bcdd-2d2df8a3b785",
   "metadata": {},
   "outputs": [
    {
     "data": {
      "text/plain": [
       "'9017bb609174441d870abf9f5d880ff4'"
      ]
     },
     "execution_count": 61,
     "metadata": {},
     "output_type": "execute_result"
    }
   ],
   "source": [
    "best_run.info.run_id"
   ]
  },
  {
   "cell_type": "code",
   "execution_count": 46,
   "id": "326cf6ee-3c5c-4f73-9c76-f763715802ee",
   "metadata": {},
   "outputs": [
    {
     "name": "stdout",
     "output_type": "stream",
     "text": [
      "best_run.data.metrics['test_rmse'] = 5.5674\n"
     ]
    }
   ],
   "source": [
    "print(f\"{best_run.data.metrics['test_rmse'] = :.4f}\")"
   ]
  },
  {
   "cell_type": "code",
   "execution_count": null,
   "id": "aea09270-7e46-408f-be1b-f6066b8fb8d5",
   "metadata": {},
   "outputs": [],
   "source": []
  },
  {
   "cell_type": "code",
   "execution_count": null,
   "id": "4082e8ca-23a3-424e-aa7d-8a4f795e71dc",
   "metadata": {},
   "outputs": [],
   "source": []
  },
  {
   "cell_type": "code",
   "execution_count": 47,
   "id": "190e8770-4cf7-44e3-a073-bb905634aba3",
   "metadata": {},
   "outputs": [
    {
     "data": {
      "text/plain": [
       "'file:///c:/Users/Gleb/work/courses/2025-05-12_mlops-course/mlops-zoomcamp-homework/02-experiment-tracking/mlflow/artifacts/2/9017bb609174441d870abf9f5d880ff4/artifacts'"
      ]
     },
     "execution_count": 47,
     "metadata": {},
     "output_type": "execute_result"
    }
   ],
   "source": [
    "best_run.info.artifact_uri"
   ]
  },
  {
   "cell_type": "code",
   "execution_count": 48,
   "id": "7aa77a13-5a25-46dc-ab02-11c21d985645",
   "metadata": {},
   "outputs": [
    {
     "data": {
      "text/plain": [
       "'9017bb609174441d870abf9f5d880ff4'"
      ]
     },
     "execution_count": 48,
     "metadata": {},
     "output_type": "execute_result"
    }
   ],
   "source": [
    "best_run.info.run_id"
   ]
  },
  {
   "cell_type": "code",
   "execution_count": null,
   "id": "f19a0b5e-3d9f-4e04-bddf-8a2ddde3e7ed",
   "metadata": {},
   "outputs": [],
   "source": []
  },
  {
   "cell_type": "code",
   "execution_count": 50,
   "id": "ca16460e-55e0-4c6c-83fc-bfd7ac9afb74",
   "metadata": {},
   "outputs": [],
   "source": [
    "# from mlflow.tracking import MlflowClient\n",
    "\n",
    "# client = MlflowClient(\"http://127.0.0.1:5000\")\n",
    "\n",
    "# run_id = best_run.info.run_id \n",
    "# model_uri = f\"runs:/{run_id}/model\"  \n",
    "# model_name = \"best_model\"\n",
    "\n",
    "# try:\n",
    "#     registered_model = client.create_registered_model(model_name)\n",
    "#     print(f\"New model registered: {model_name}\")\n",
    "# except mlflow.exceptions.MlflowException as e:\n",
    "#     print(f\"The model '{model_name}' already exist\")"
   ]
  },
  {
   "cell_type": "code",
   "execution_count": null,
   "id": "c70df5a5-aca3-4c5d-92c4-4c499307a560",
   "metadata": {},
   "outputs": [],
   "source": []
  },
  {
   "cell_type": "code",
   "execution_count": 51,
   "id": "dac84ac6-6f93-4615-a899-8fdd5eecfac5",
   "metadata": {},
   "outputs": [
    {
     "data": {
      "text/plain": [
       "[<RegisteredModel: aliases={}, creation_timestamp=1748213715201, description='', last_updated_timestamp=1748213715237, latest_versions=[<ModelVersion: aliases=[], creation_timestamp=1748213715237, current_stage='None', description='', last_updated_timestamp=1748213715237, name='best_model', run_id='9017bb609174441d870abf9f5d880ff4', run_link='', source='file:///c:/Users/Gleb/work/courses/2025-05-12_mlops-course/mlops-zoomcamp-homework/02-experiment-tracking/mlflow/artifacts/2/9017bb609174441d870abf9f5d880ff4/artifacts/model', status='READY', status_message=None, tags={}, user_id='', version='1'>], name='best_model', tags={}>]"
      ]
     },
     "execution_count": 51,
     "metadata": {},
     "output_type": "execute_result"
    }
   ],
   "source": [
    "client.search_registered_models()"
   ]
  },
  {
   "cell_type": "code",
   "execution_count": null,
   "id": "9737f046-25fe-413a-8dd9-d70d7eefd818",
   "metadata": {},
   "outputs": [],
   "source": []
  },
  {
   "cell_type": "code",
   "execution_count": 52,
   "id": "17736e4b-97c8-4165-b950-9b8f0a5921a5",
   "metadata": {},
   "outputs": [],
   "source": [
    "# client.delete_registered_model('best_model')"
   ]
  },
  {
   "cell_type": "code",
   "execution_count": null,
   "id": "9f352f56-01eb-4f1a-b3f6-6d6b57d79d73",
   "metadata": {},
   "outputs": [],
   "source": []
  },
  {
   "cell_type": "code",
   "execution_count": null,
   "id": "bf3de4f6-9ab5-4fe8-963f-5a1493f2d159",
   "metadata": {},
   "outputs": [],
   "source": []
  },
  {
   "cell_type": "code",
   "execution_count": null,
   "id": "e8320e29-c96d-4f47-ae90-34e4a0a6ee73",
   "metadata": {},
   "outputs": [],
   "source": []
  },
  {
   "cell_type": "markdown",
   "id": "691b63f6-2166-4fd6-a982-32cde4beff2b",
   "metadata": {},
   "source": [
    "## Submit the results\n",
    "---\n",
    "* Submit your results here: https://courses.datatalks.club/mlops-zoomcamp-2025/homework/hw2\n",
    "* If your answer doesn't match options exactly, select the closest one"
   ]
  },
  {
   "cell_type": "code",
   "execution_count": null,
   "id": "e0a3310f-22cd-4263-94f8-0ce1a8d7e33f",
   "metadata": {},
   "outputs": [],
   "source": []
  },
  {
   "cell_type": "code",
   "execution_count": null,
   "id": "17d9c765-8d48-4235-94ef-8ef5fbb9cd08",
   "metadata": {},
   "outputs": [],
   "source": []
  },
  {
   "cell_type": "code",
   "execution_count": null,
   "id": "f1d39c90-4e37-4c16-9189-65834523ec36",
   "metadata": {},
   "outputs": [],
   "source": []
  },
  {
   "cell_type": "code",
   "execution_count": null,
   "id": "86a6967d-4a90-4dfa-a8ac-36e5a58d4b3e",
   "metadata": {},
   "outputs": [],
   "source": []
  },
  {
   "cell_type": "code",
   "execution_count": null,
   "id": "65f7c9d0-b35b-49c0-ad90-d322bd1ee1de",
   "metadata": {},
   "outputs": [],
   "source": []
  }
 ],
 "metadata": {
  "kernelspec": {
   "display_name": "Python 3 (ipykernel)",
   "language": "python",
   "name": "python3"
  },
  "language_info": {
   "codemirror_mode": {
    "name": "ipython",
    "version": 3
   },
   "file_extension": ".py",
   "mimetype": "text/x-python",
   "name": "python",
   "nbconvert_exporter": "python",
   "pygments_lexer": "ipython3",
   "version": "3.12.4"
  }
 },
 "nbformat": 4,
 "nbformat_minor": 5
}
