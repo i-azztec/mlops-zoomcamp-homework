{
 "cells": [
  {
   "cell_type": "markdown",
   "id": "2561cb53-90e9-4a27-a8e5-6b1decaa9087",
   "metadata": {},
   "source": [
    "## Homework\n",
    "\n",
    "The goal of this homework is to create a simple training pipeline, use mlflow to track experiments and register best model, but use Mage for it.\n",
    "\n",
    "We'll use [the same NYC taxi dataset](https://www1.nyc.gov/site/tlc/about/tlc-trip-record-data.page), the **Yellow** taxi data for March, 2023. "
   ]
  },
  {
   "cell_type": "code",
   "execution_count": null,
   "id": "0ceea426",
   "metadata": {},
   "outputs": [],
   "source": []
  },
  {
   "cell_type": "code",
   "execution_count": 5,
   "id": "7ef66ef0",
   "metadata": {},
   "outputs": [],
   "source": [
    "import numpy as np\n",
    "import pandas as pd\n",
    "import matplotlib.pyplot as plt\n",
    "\n",
    "plt.style.use('seaborn-v0_8')"
   ]
  },
  {
   "cell_type": "code",
   "execution_count": null,
   "id": "79aca7b8",
   "metadata": {},
   "outputs": [],
   "source": []
  },
  {
   "cell_type": "markdown",
   "id": "791090b2-4509-472f-ad47-f507d45cbde1",
   "metadata": {},
   "source": [
    "\n",
    "\n",
    "## Question 1. Select the Tool\n",
    "\n",
    "You can use the same tool you used when completing the module,\n",
    "or choose a different one for your homework.\n",
    "\n",
    "What's the name of the orchestrator you chose? "
   ]
  },
  {
   "cell_type": "markdown",
   "id": "50aa3965-3db0-4ba9-a6b8-97e68bac7683",
   "metadata": {},
   "source": [
    "##### **A:** Apache Airflow"
   ]
  },
  {
   "cell_type": "code",
   "execution_count": null,
   "id": "765c6534-fb9a-44c6-91bb-95c45b80a9d8",
   "metadata": {},
   "outputs": [],
   "source": []
  },
  {
   "cell_type": "markdown",
   "id": "c6abee47-6979-4409-98ed-e078e15ceef3",
   "metadata": {},
   "source": [
    "## Question 2. Version\n",
    "\n",
    "What's the version of the orchestrator? "
   ]
  },
  {
   "cell_type": "markdown",
   "id": "3e371191-7924-47ba-8d38-3534cbe53c74",
   "metadata": {},
   "source": [
    "##### **A:** 3.0.1"
   ]
  },
  {
   "cell_type": "code",
   "execution_count": null,
   "id": "ea20ada7",
   "metadata": {},
   "outputs": [],
   "source": []
  },
  {
   "cell_type": "code",
   "execution_count": null,
   "id": "e5e9b07f-facb-4ce2-8a0e-0cec166b855e",
   "metadata": {},
   "outputs": [
    {
     "name": "stdout",
     "output_type": "stream",
     "text": [
      "3.0.1\n"
     ]
    }
   ],
   "source": [
    "! airflow version"
   ]
  },
  {
   "cell_type": "code",
   "execution_count": null,
   "id": "5124631e-02fe-4265-a9a9-2bc030087a10",
   "metadata": {},
   "outputs": [],
   "source": []
  },
  {
   "cell_type": "markdown",
   "id": "1a831a4a-0dc0-488e-b0be-839a8b3dd868",
   "metadata": {},
   "source": [
    "## Question 3. Creating a pipeline\n",
    "\n",
    "Let's read the March 2023 Yellow taxi trips data.\n",
    "\n",
    "https://www.nyc.gov/site/tlc/about/tlc-trip-record-data.page\n",
    "\n",
    "How many records did we load? \n",
    "\n",
    "- ~~3,003,766~~\n",
    "- ~~3,203,766~~\n",
    "- **3,403,766**\n",
    "- ~~3,603,766~~\n",
    "\n",
    "(Include a print statement in your code)"
   ]
  },
  {
   "cell_type": "code",
   "execution_count": null,
   "id": "f3a8cc4d-9378-40fd-8561-c92bddb38115",
   "metadata": {},
   "outputs": [],
   "source": []
  },
  {
   "cell_type": "code",
   "execution_count": 4,
   "id": "af4b05bf-e301-47e4-9b2c-7cab0277aea5",
   "metadata": {},
   "outputs": [
    {
     "name": "stdout",
     "output_type": "stream",
     "text": [
      "total 97796\n",
      "drwxrwxrwx+  3 codespace codespace     4096 Jun  6 20:06 .\n",
      "drwxrwxrwx+ 10 codespace root          4096 Jun  6 20:03 ..\n",
      "-rw-rw-rw-   1 codespace codespace  1427002 Jun  6 20:03 green_tripdata_2023-01.parquet\n",
      "-rw-rw-rw-   1 codespace codespace  1533740 Jun  6 20:03 green_tripdata_2023-02.parquet\n",
      "-rw-rw-rw-   1 codespace codespace  1730999 Jun  6 20:03 green_tripdata_2023-03.parquet\n",
      "drwxrwxrwx+  2 codespace codespace     4096 Jun  6 20:03 output\n",
      "-rw-rw-rw-   1 codespace codespace 47673370 Jun  6 20:06 yellow_tripdata_2023-01.parquet\n",
      "-rw-rw-rw-   1 codespace codespace 47748012 Jun  6 20:06 yellow_tripdata_2023-02.parquet\n"
     ]
    }
   ],
   "source": [
    "! ls -al ../data/"
   ]
  },
  {
   "cell_type": "code",
   "execution_count": null,
   "id": "89585179",
   "metadata": {},
   "outputs": [],
   "source": []
  },
  {
   "cell_type": "code",
   "execution_count": 15,
   "id": "0a3393f6",
   "metadata": {},
   "outputs": [],
   "source": [
    "fname = '../data/yellow_tripdata_2023-03.parquet'\n",
    "\n",
    "df = pd.read_parquet(fname)"
   ]
  },
  {
   "cell_type": "code",
   "execution_count": 9,
   "id": "7164917e",
   "metadata": {},
   "outputs": [
    {
     "data": {
      "text/html": [
       "<div>\n",
       "<style scoped>\n",
       "    .dataframe tbody tr th:only-of-type {\n",
       "        vertical-align: middle;\n",
       "    }\n",
       "\n",
       "    .dataframe tbody tr th {\n",
       "        vertical-align: top;\n",
       "    }\n",
       "\n",
       "    .dataframe thead th {\n",
       "        text-align: right;\n",
       "    }\n",
       "</style>\n",
       "<table border=\"1\" class=\"dataframe\">\n",
       "  <thead>\n",
       "    <tr style=\"text-align: right;\">\n",
       "      <th></th>\n",
       "      <th>VendorID</th>\n",
       "      <th>tpep_pickup_datetime</th>\n",
       "      <th>tpep_dropoff_datetime</th>\n",
       "      <th>passenger_count</th>\n",
       "      <th>trip_distance</th>\n",
       "      <th>RatecodeID</th>\n",
       "      <th>store_and_fwd_flag</th>\n",
       "      <th>PULocationID</th>\n",
       "      <th>DOLocationID</th>\n",
       "      <th>payment_type</th>\n",
       "      <th>fare_amount</th>\n",
       "      <th>extra</th>\n",
       "      <th>mta_tax</th>\n",
       "      <th>tip_amount</th>\n",
       "      <th>tolls_amount</th>\n",
       "      <th>improvement_surcharge</th>\n",
       "      <th>total_amount</th>\n",
       "      <th>congestion_surcharge</th>\n",
       "      <th>Airport_fee</th>\n",
       "    </tr>\n",
       "  </thead>\n",
       "  <tbody>\n",
       "    <tr>\n",
       "      <th>0</th>\n",
       "      <td>2</td>\n",
       "      <td>2023-03-01 00:06:43</td>\n",
       "      <td>2023-03-01 00:16:43</td>\n",
       "      <td>1.0</td>\n",
       "      <td>0.00</td>\n",
       "      <td>1.0</td>\n",
       "      <td>N</td>\n",
       "      <td>238</td>\n",
       "      <td>42</td>\n",
       "      <td>2</td>\n",
       "      <td>8.60</td>\n",
       "      <td>1.0</td>\n",
       "      <td>0.5</td>\n",
       "      <td>0.00</td>\n",
       "      <td>0.0</td>\n",
       "      <td>1.0</td>\n",
       "      <td>11.10</td>\n",
       "      <td>0.0</td>\n",
       "      <td>0.00</td>\n",
       "    </tr>\n",
       "    <tr>\n",
       "      <th>1</th>\n",
       "      <td>2</td>\n",
       "      <td>2023-03-01 00:08:25</td>\n",
       "      <td>2023-03-01 00:39:30</td>\n",
       "      <td>2.0</td>\n",
       "      <td>12.40</td>\n",
       "      <td>1.0</td>\n",
       "      <td>N</td>\n",
       "      <td>138</td>\n",
       "      <td>231</td>\n",
       "      <td>1</td>\n",
       "      <td>52.70</td>\n",
       "      <td>6.0</td>\n",
       "      <td>0.5</td>\n",
       "      <td>12.54</td>\n",
       "      <td>0.0</td>\n",
       "      <td>1.0</td>\n",
       "      <td>76.49</td>\n",
       "      <td>2.5</td>\n",
       "      <td>1.25</td>\n",
       "    </tr>\n",
       "    <tr>\n",
       "      <th>2</th>\n",
       "      <td>1</td>\n",
       "      <td>2023-03-01 00:15:04</td>\n",
       "      <td>2023-03-01 00:29:26</td>\n",
       "      <td>0.0</td>\n",
       "      <td>3.30</td>\n",
       "      <td>1.0</td>\n",
       "      <td>N</td>\n",
       "      <td>140</td>\n",
       "      <td>186</td>\n",
       "      <td>1</td>\n",
       "      <td>18.40</td>\n",
       "      <td>3.5</td>\n",
       "      <td>0.5</td>\n",
       "      <td>4.65</td>\n",
       "      <td>0.0</td>\n",
       "      <td>1.0</td>\n",
       "      <td>28.05</td>\n",
       "      <td>2.5</td>\n",
       "      <td>0.00</td>\n",
       "    </tr>\n",
       "    <tr>\n",
       "      <th>3</th>\n",
       "      <td>1</td>\n",
       "      <td>2023-03-01 00:49:37</td>\n",
       "      <td>2023-03-01 01:01:05</td>\n",
       "      <td>1.0</td>\n",
       "      <td>2.90</td>\n",
       "      <td>1.0</td>\n",
       "      <td>N</td>\n",
       "      <td>140</td>\n",
       "      <td>43</td>\n",
       "      <td>1</td>\n",
       "      <td>15.60</td>\n",
       "      <td>3.5</td>\n",
       "      <td>0.5</td>\n",
       "      <td>4.10</td>\n",
       "      <td>0.0</td>\n",
       "      <td>1.0</td>\n",
       "      <td>24.70</td>\n",
       "      <td>2.5</td>\n",
       "      <td>0.00</td>\n",
       "    </tr>\n",
       "    <tr>\n",
       "      <th>4</th>\n",
       "      <td>2</td>\n",
       "      <td>2023-03-01 00:08:04</td>\n",
       "      <td>2023-03-01 00:11:06</td>\n",
       "      <td>1.0</td>\n",
       "      <td>1.23</td>\n",
       "      <td>1.0</td>\n",
       "      <td>N</td>\n",
       "      <td>79</td>\n",
       "      <td>137</td>\n",
       "      <td>1</td>\n",
       "      <td>7.20</td>\n",
       "      <td>1.0</td>\n",
       "      <td>0.5</td>\n",
       "      <td>2.44</td>\n",
       "      <td>0.0</td>\n",
       "      <td>1.0</td>\n",
       "      <td>14.64</td>\n",
       "      <td>2.5</td>\n",
       "      <td>0.00</td>\n",
       "    </tr>\n",
       "    <tr>\n",
       "      <th>...</th>\n",
       "      <td>...</td>\n",
       "      <td>...</td>\n",
       "      <td>...</td>\n",
       "      <td>...</td>\n",
       "      <td>...</td>\n",
       "      <td>...</td>\n",
       "      <td>...</td>\n",
       "      <td>...</td>\n",
       "      <td>...</td>\n",
       "      <td>...</td>\n",
       "      <td>...</td>\n",
       "      <td>...</td>\n",
       "      <td>...</td>\n",
       "      <td>...</td>\n",
       "      <td>...</td>\n",
       "      <td>...</td>\n",
       "      <td>...</td>\n",
       "      <td>...</td>\n",
       "      <td>...</td>\n",
       "    </tr>\n",
       "    <tr>\n",
       "      <th>3403761</th>\n",
       "      <td>2</td>\n",
       "      <td>2023-03-31 23:24:25</td>\n",
       "      <td>2023-03-31 23:40:54</td>\n",
       "      <td>NaN</td>\n",
       "      <td>3.16</td>\n",
       "      <td>NaN</td>\n",
       "      <td>None</td>\n",
       "      <td>163</td>\n",
       "      <td>75</td>\n",
       "      <td>0</td>\n",
       "      <td>12.13</td>\n",
       "      <td>0.0</td>\n",
       "      <td>0.5</td>\n",
       "      <td>4.23</td>\n",
       "      <td>0.0</td>\n",
       "      <td>1.0</td>\n",
       "      <td>20.36</td>\n",
       "      <td>NaN</td>\n",
       "      <td>NaN</td>\n",
       "    </tr>\n",
       "    <tr>\n",
       "      <th>3403762</th>\n",
       "      <td>2</td>\n",
       "      <td>2023-03-31 23:24:50</td>\n",
       "      <td>2023-04-01 00:04:12</td>\n",
       "      <td>NaN</td>\n",
       "      <td>6.89</td>\n",
       "      <td>NaN</td>\n",
       "      <td>None</td>\n",
       "      <td>125</td>\n",
       "      <td>198</td>\n",
       "      <td>0</td>\n",
       "      <td>40.92</td>\n",
       "      <td>0.0</td>\n",
       "      <td>0.5</td>\n",
       "      <td>8.98</td>\n",
       "      <td>0.0</td>\n",
       "      <td>1.0</td>\n",
       "      <td>53.90</td>\n",
       "      <td>NaN</td>\n",
       "      <td>NaN</td>\n",
       "    </tr>\n",
       "    <tr>\n",
       "      <th>3403763</th>\n",
       "      <td>2</td>\n",
       "      <td>2023-03-31 23:26:31</td>\n",
       "      <td>2023-03-31 23:49:39</td>\n",
       "      <td>NaN</td>\n",
       "      <td>4.01</td>\n",
       "      <td>NaN</td>\n",
       "      <td>None</td>\n",
       "      <td>50</td>\n",
       "      <td>224</td>\n",
       "      <td>0</td>\n",
       "      <td>24.02</td>\n",
       "      <td>0.0</td>\n",
       "      <td>0.5</td>\n",
       "      <td>0.00</td>\n",
       "      <td>0.0</td>\n",
       "      <td>1.0</td>\n",
       "      <td>28.02</td>\n",
       "      <td>NaN</td>\n",
       "      <td>NaN</td>\n",
       "    </tr>\n",
       "    <tr>\n",
       "      <th>3403764</th>\n",
       "      <td>2</td>\n",
       "      <td>2023-03-31 23:07:51</td>\n",
       "      <td>2023-03-31 23:15:56</td>\n",
       "      <td>NaN</td>\n",
       "      <td>1.31</td>\n",
       "      <td>NaN</td>\n",
       "      <td>None</td>\n",
       "      <td>113</td>\n",
       "      <td>158</td>\n",
       "      <td>0</td>\n",
       "      <td>8.51</td>\n",
       "      <td>0.0</td>\n",
       "      <td>0.5</td>\n",
       "      <td>3.50</td>\n",
       "      <td>0.0</td>\n",
       "      <td>1.0</td>\n",
       "      <td>16.01</td>\n",
       "      <td>NaN</td>\n",
       "      <td>NaN</td>\n",
       "    </tr>\n",
       "    <tr>\n",
       "      <th>3403765</th>\n",
       "      <td>2</td>\n",
       "      <td>2023-03-31 23:26:12</td>\n",
       "      <td>2023-03-31 23:31:47</td>\n",
       "      <td>NaN</td>\n",
       "      <td>0.88</td>\n",
       "      <td>NaN</td>\n",
       "      <td>None</td>\n",
       "      <td>41</td>\n",
       "      <td>166</td>\n",
       "      <td>0</td>\n",
       "      <td>13.51</td>\n",
       "      <td>0.0</td>\n",
       "      <td>0.5</td>\n",
       "      <td>2.25</td>\n",
       "      <td>0.0</td>\n",
       "      <td>1.0</td>\n",
       "      <td>17.26</td>\n",
       "      <td>NaN</td>\n",
       "      <td>NaN</td>\n",
       "    </tr>\n",
       "  </tbody>\n",
       "</table>\n",
       "<p>3403766 rows × 19 columns</p>\n",
       "</div>"
      ],
      "text/plain": [
       "         VendorID tpep_pickup_datetime tpep_dropoff_datetime  passenger_count  \\\n",
       "0               2  2023-03-01 00:06:43   2023-03-01 00:16:43              1.0   \n",
       "1               2  2023-03-01 00:08:25   2023-03-01 00:39:30              2.0   \n",
       "2               1  2023-03-01 00:15:04   2023-03-01 00:29:26              0.0   \n",
       "3               1  2023-03-01 00:49:37   2023-03-01 01:01:05              1.0   \n",
       "4               2  2023-03-01 00:08:04   2023-03-01 00:11:06              1.0   \n",
       "...           ...                  ...                   ...              ...   \n",
       "3403761         2  2023-03-31 23:24:25   2023-03-31 23:40:54              NaN   \n",
       "3403762         2  2023-03-31 23:24:50   2023-04-01 00:04:12              NaN   \n",
       "3403763         2  2023-03-31 23:26:31   2023-03-31 23:49:39              NaN   \n",
       "3403764         2  2023-03-31 23:07:51   2023-03-31 23:15:56              NaN   \n",
       "3403765         2  2023-03-31 23:26:12   2023-03-31 23:31:47              NaN   \n",
       "\n",
       "         trip_distance  RatecodeID store_and_fwd_flag  PULocationID  \\\n",
       "0                 0.00         1.0                  N           238   \n",
       "1                12.40         1.0                  N           138   \n",
       "2                 3.30         1.0                  N           140   \n",
       "3                 2.90         1.0                  N           140   \n",
       "4                 1.23         1.0                  N            79   \n",
       "...                ...         ...                ...           ...   \n",
       "3403761           3.16         NaN               None           163   \n",
       "3403762           6.89         NaN               None           125   \n",
       "3403763           4.01         NaN               None            50   \n",
       "3403764           1.31         NaN               None           113   \n",
       "3403765           0.88         NaN               None            41   \n",
       "\n",
       "         DOLocationID  payment_type  fare_amount  extra  mta_tax  tip_amount  \\\n",
       "0                  42             2         8.60    1.0      0.5        0.00   \n",
       "1                 231             1        52.70    6.0      0.5       12.54   \n",
       "2                 186             1        18.40    3.5      0.5        4.65   \n",
       "3                  43             1        15.60    3.5      0.5        4.10   \n",
       "4                 137             1         7.20    1.0      0.5        2.44   \n",
       "...               ...           ...          ...    ...      ...         ...   \n",
       "3403761            75             0        12.13    0.0      0.5        4.23   \n",
       "3403762           198             0        40.92    0.0      0.5        8.98   \n",
       "3403763           224             0        24.02    0.0      0.5        0.00   \n",
       "3403764           158             0         8.51    0.0      0.5        3.50   \n",
       "3403765           166             0        13.51    0.0      0.5        2.25   \n",
       "\n",
       "         tolls_amount  improvement_surcharge  total_amount  \\\n",
       "0                 0.0                    1.0         11.10   \n",
       "1                 0.0                    1.0         76.49   \n",
       "2                 0.0                    1.0         28.05   \n",
       "3                 0.0                    1.0         24.70   \n",
       "4                 0.0                    1.0         14.64   \n",
       "...               ...                    ...           ...   \n",
       "3403761           0.0                    1.0         20.36   \n",
       "3403762           0.0                    1.0         53.90   \n",
       "3403763           0.0                    1.0         28.02   \n",
       "3403764           0.0                    1.0         16.01   \n",
       "3403765           0.0                    1.0         17.26   \n",
       "\n",
       "         congestion_surcharge  Airport_fee  \n",
       "0                         0.0         0.00  \n",
       "1                         2.5         1.25  \n",
       "2                         2.5         0.00  \n",
       "3                         2.5         0.00  \n",
       "4                         2.5         0.00  \n",
       "...                       ...          ...  \n",
       "3403761                   NaN          NaN  \n",
       "3403762                   NaN          NaN  \n",
       "3403763                   NaN          NaN  \n",
       "3403764                   NaN          NaN  \n",
       "3403765                   NaN          NaN  \n",
       "\n",
       "[3403766 rows x 19 columns]"
      ]
     },
     "execution_count": 9,
     "metadata": {},
     "output_type": "execute_result"
    }
   ],
   "source": [
    "df"
   ]
  },
  {
   "cell_type": "code",
   "execution_count": 11,
   "id": "79e02016",
   "metadata": {},
   "outputs": [
    {
     "data": {
      "text/plain": [
       "((3403766, 19), 3403766, 3403765)"
      ]
     },
     "execution_count": 11,
     "metadata": {},
     "output_type": "execute_result"
    }
   ],
   "source": [
    "df.shape, len(df), df.index.max()"
   ]
  },
  {
   "cell_type": "code",
   "execution_count": 13,
   "id": "9a4efa7a",
   "metadata": {},
   "outputs": [
    {
     "name": "stdout",
     "output_type": "stream",
     "text": [
      "Number of records: len(df)=3403766\n"
     ]
    }
   ],
   "source": [
    "print(f'Number of records: {len(df)=}')"
   ]
  },
  {
   "cell_type": "code",
   "execution_count": null,
   "id": "9aeeb88d",
   "metadata": {},
   "outputs": [],
   "source": []
  },
  {
   "cell_type": "code",
   "execution_count": null,
   "id": "80f83b25",
   "metadata": {},
   "outputs": [],
   "source": []
  },
  {
   "cell_type": "markdown",
   "id": "027a9cc2-bfa2-4421-b1b9-905fb3ec5493",
   "metadata": {},
   "source": [
    "## Question 4. Data preparation\n",
    "\n",
    "Let's continue with pipeline creation.\n",
    "\n",
    "We will use the same logic for preparing the data we used previously. \n",
    "\n",
    "This is what we used (adjusted for yellow dataset):\n",
    "\n",
    "```python\n",
    "def read_dataframe(filename):\n",
    "    df = pd.read_parquet(filename)\n",
    "\n",
    "    df['duration'] = df.tpep_dropoff_datetime - df.tpep_pickup_datetime\n",
    "    df.duration = df.duration.dt.total_seconds() / 60\n",
    "\n",
    "    df = df[(df.duration >= 1) & (df.duration <= 60)]\n",
    "\n",
    "    categorical = ['PULocationID', 'DOLocationID']\n",
    "    df[categorical] = df[categorical].astype(str)\n",
    "    \n",
    "    return df\n",
    "```\n",
    "\n",
    "Let's apply to the data we loaded in question 3. \n",
    "\n",
    "What's the size of the result? \n",
    "\n",
    "- ~~2,903,766~~\n",
    "- ~~3,103,766~~\n",
    "- **3,316,216** \n",
    "- ~~3,503,766~~"
   ]
  },
  {
   "cell_type": "code",
   "execution_count": null,
   "id": "14c166a8-4462-4d4f-819f-66c9fb267185",
   "metadata": {},
   "outputs": [],
   "source": []
  },
  {
   "cell_type": "code",
   "execution_count": 14,
   "id": "f7730e0f",
   "metadata": {},
   "outputs": [],
   "source": [
    "def read_dataframe(filename):\n",
    "    df = pd.read_parquet(filename)\n",
    "\n",
    "    df['duration'] = df.tpep_dropoff_datetime - df.tpep_pickup_datetime\n",
    "    df.duration = df.duration.dt.total_seconds() / 60\n",
    "\n",
    "    df = df[(df.duration >= 1) & (df.duration <= 60)]\n",
    "\n",
    "    categorical = ['PULocationID', 'DOLocationID']\n",
    "    df[categorical] = df[categorical].astype(str)\n",
    "    \n",
    "    return df"
   ]
  },
  {
   "cell_type": "code",
   "execution_count": 16,
   "id": "40d6dd1a",
   "metadata": {},
   "outputs": [],
   "source": [
    "df = read_dataframe(fname)"
   ]
  },
  {
   "cell_type": "code",
   "execution_count": 17,
   "id": "de649b6f",
   "metadata": {},
   "outputs": [
    {
     "data": {
      "text/plain": [
       "(3316216, 20)"
      ]
     },
     "execution_count": 17,
     "metadata": {},
     "output_type": "execute_result"
    }
   ],
   "source": [
    "df.shape"
   ]
  },
  {
   "cell_type": "code",
   "execution_count": 18,
   "id": "4ed90ed0-b8d3-4add-8d67-dc70bf9274ec",
   "metadata": {},
   "outputs": [
    {
     "name": "stdout",
     "output_type": "stream",
     "text": [
      "Number of records: len(df)=3316216\n"
     ]
    }
   ],
   "source": [
    "print(f'Number of records: {len(df)=}')"
   ]
  },
  {
   "cell_type": "code",
   "execution_count": null,
   "id": "c24b479b",
   "metadata": {},
   "outputs": [],
   "source": []
  },
  {
   "cell_type": "code",
   "execution_count": null,
   "id": "7a917554",
   "metadata": {},
   "outputs": [],
   "source": []
  },
  {
   "cell_type": "markdown",
   "id": "3550cc81-2555-4aaf-99ea-3fd9752f30d2",
   "metadata": {},
   "source": [
    "\n",
    "## Question 5. Train a model\n",
    "\n",
    "We will now train a linear regression model using the same code as in homework 1.\n",
    "\n",
    "* Fit a dict vectorizer.\n",
    "* Train a linear regression with default parameters.\n",
    "* Use pick up and drop off locations separately, don't create a combination feature.\n",
    "\n",
    "Let's now use it in the pipeline. We will need to create another transformation block, and return both the dict vectorizer and the model.\n",
    "\n",
    "What's the intercept of the model? \n",
    "\n",
    "Hint: print the `intercept_` field in the code block\n",
    "\n",
    "- 21.77\n",
    "- 24.77\n",
    "- 27.77\n",
    "- 31.77"
   ]
  },
  {
   "cell_type": "code",
   "execution_count": null,
   "id": "f3592c2d-5fd4-43e5-8330-0af08a2a8450",
   "metadata": {},
   "outputs": [],
   "source": []
  },
  {
   "cell_type": "code",
   "execution_count": null,
   "id": "c76661d8-b5ed-4a28-af7b-a1ebf2b7ade4",
   "metadata": {},
   "outputs": [],
   "source": []
  },
  {
   "cell_type": "markdown",
   "id": "5b51867c-6bbf-47a5-a97d-7cdb7446a5b7",
   "metadata": {},
   "source": [
    "## Question 6. Register the model \n",
    "\n",
    "The model is trained, so let's save it with MLFlow.\n",
    "\n",
    "Find the logged model, and find MLModel file. What's the size of the model? (`model_size_bytes` field):\n",
    "\n",
    "* 14,534\n",
    "* 9,534\n",
    "* 4,534\n",
    "* 1,534"
   ]
  },
  {
   "cell_type": "code",
   "execution_count": null,
   "id": "9ec33c46-a8a3-4e7b-91e6-cdab98aacbca",
   "metadata": {},
   "outputs": [],
   "source": []
  },
  {
   "cell_type": "code",
   "execution_count": null,
   "id": "864fb19e-9dcd-461a-bbfd-78a21993de8c",
   "metadata": {},
   "outputs": [],
   "source": []
  },
  {
   "cell_type": "markdown",
   "id": "62a8389b-6e94-4260-b41d-ccd95c8ba446",
   "metadata": {},
   "source": [
    "## Submit the results\n",
    "\n",
    "* Submit your results here: https://courses.datatalks.club/mlops-zoomcamp-2025/homework/hw3\n",
    "* If your answer doesn't match options exactly, select the closest one."
   ]
  },
  {
   "cell_type": "code",
   "execution_count": null,
   "id": "6448d140-d2f2-46c7-8069-b07e5c15b05c",
   "metadata": {},
   "outputs": [],
   "source": []
  },
  {
   "cell_type": "code",
   "execution_count": null,
   "id": "3b097f57-5f7a-4ede-8801-7b82617bf245",
   "metadata": {},
   "outputs": [],
   "source": []
  },
  {
   "cell_type": "code",
   "execution_count": null,
   "id": "11c3f48d-ab4f-45f9-b39c-478760e5dc35",
   "metadata": {},
   "outputs": [],
   "source": []
  }
 ],
 "metadata": {
  "kernelspec": {
   "display_name": "Python 3",
   "language": "python",
   "name": "python3"
  },
  "language_info": {
   "codemirror_mode": {
    "name": "ipython",
    "version": 3
   },
   "file_extension": ".py",
   "mimetype": "text/x-python",
   "name": "python",
   "nbconvert_exporter": "python",
   "pygments_lexer": "ipython3",
   "version": "3.12.1"
  }
 },
 "nbformat": 4,
 "nbformat_minor": 5
}
